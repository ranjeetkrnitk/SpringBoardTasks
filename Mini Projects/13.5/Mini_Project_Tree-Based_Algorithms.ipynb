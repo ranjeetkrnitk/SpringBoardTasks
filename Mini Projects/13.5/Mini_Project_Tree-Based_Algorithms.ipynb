{
 "cells": [
  {
   "cell_type": "markdown",
   "metadata": {},
   "source": [
    "# Mini Project: Tree-Based Algorithms"
   ]
  },
  {
   "cell_type": "markdown",
   "metadata": {},
   "source": [
    "## The \"German Credit\" Dataset"
   ]
  },
  {
   "cell_type": "markdown",
   "metadata": {},
   "source": [
    "### Dataset Details"
   ]
  },
  {
   "cell_type": "markdown",
   "metadata": {},
   "source": [
    "This dataset has two classes (these would be considered labels in Machine Learning terms) to describe the worthiness of a personal loan: \"Good\" or \"Bad\". There are predictors related to attributes, such as: checking account status, duration, credit history, purpose of the loan, amount of the loan, savings accounts or bonds, employment duration, installment rate in percentage of disposable income, personal information, other debtors/guarantors, residence duration, property, age, other installment plans, housing, number of existing credits, job information, number of people being liable to provide maintenance for, telephone, and foreign worker status.\n",
    "\n",
    "Many of these predictors are discrete and have been expanded into several 0/1 indicator variables (a.k.a. they have been one-hot-encoded).\n",
    "\n",
    "This dataset has been kindly provided by Professor Dr. Hans Hofmann of the University of Hamburg, and can also be found on the UCI Machine Learning Repository."
   ]
  },
  {
   "cell_type": "markdown",
   "metadata": {},
   "source": [
    "\n",
    "\n",
    "\n"
   ]
  },
  {
   "cell_type": "markdown",
   "metadata": {},
   "source": [
    "## Decision Trees"
   ]
  },
  {
   "cell_type": "markdown",
   "metadata": {},
   "source": [
    " As we have learned in the previous lectures, Decision Trees as a family of algorithms (irrespective to the particular implementation) are powerful algorithms that can produce models with a predictive accuracy higher than that produced by linear models, such as Linear or Logistic Regression. Primarily, this is due to the fact the DT's can model nonlinear relationships, and also have a number of tuning paramters, that allow for the practicioner to achieve the best possible model. An added bonus is the ability to visualize the trained Decision Tree model, which allows for some insight into how the model has produced the predictions that it has. One caveat here, to keep in mind, is that sometimes, due to the size of the dataset (both in the sense of the number of records, as well as the number of features), the visualization might prove to be very large and complex, increasing the difficulty of interpretation."
   ]
  },
  {
   "cell_type": "markdown",
   "metadata": {},
   "source": [
    "To give you a very good example of how Decision Trees can be visualized and interpreted, we would strongly recommend that, before continuing on with solving the problems in this Mini Project, you take the time to read this fanstastic, detailed and informative blog post: http://explained.ai/decision-tree-viz/index.html"
   ]
  },
  {
   "cell_type": "markdown",
   "metadata": {},
   "source": [
    "## Building Your First Decision Tree Model"
   ]
  },
  {
   "cell_type": "markdown",
   "metadata": {},
   "source": [
    "So, now it's time to jump straight into the heart of the matter. Your first task, is to build a Decision Tree model, using the aforementioned \"German Credit\" dataset, which contains 1,000 records, and 62 columns (one of them presents the labels, and the other 61 present the potential features for the model.)"
   ]
  },
  {
   "cell_type": "markdown",
   "metadata": {},
   "source": [
    "For this task, you will be using the scikit-learn library, which comes already pre-installed with the Anaconda Python distribution. In case you're not using that, you can easily install it using pip."
   ]
  },
  {
   "cell_type": "markdown",
   "metadata": {},
   "source": [
    "Before embarking on creating your first model, we would strongly encourage you to read the short tutorial for Decision Trees in scikit-learn (http://scikit-learn.org/stable/modules/tree.html), and then dive a bit deeper into the documentation of the algorithm itself (http://scikit-learn.org/stable/modules/generated/sklearn.tree.DecisionTreeClassifier.html). "
   ]
  },
  {
   "cell_type": "markdown",
   "metadata": {},
   "source": [
    "Also, since you want to be able to present the results of your model, we suggest you take a look at the tutorial for accuracy metrics for classification models (http://scikit-learn.org/stable/modules/model_evaluation.html#classification-report) as well as the more detailed documentation (http://scikit-learn.org/stable/modules/generated/sklearn.metrics.classification_report.html).\n",
    "\n",
    "Finally, an *amazing* resource that explains the various classification model accuracy metrics, as well as the relationships between them, can be found on Wikipedia: https://en.wikipedia.org/wiki/Confusion_matrix"
   ]
  },
  {
   "cell_type": "markdown",
   "metadata": {},
   "source": [
    "(Note: as you've already learned in the Logistic Regression mini project, a standard practice in Machine Learning for achieving the best possible result when training a model is to use hyperparameter tuning, through Grid Search and k-fold Cross Validation. We strongly encourage you to use it here as well, not just because it's standard practice, but also becuase it's not going to be computationally to intensive, due to the size of the dataset that you're working with. Our suggestion here is that you split the data into 70% training, and 30% testing. Then, do the hyperparameter tuning and Cross Validation on the training set, and afterwards to a final test on the testing set.)"
   ]
  },
  {
   "cell_type": "markdown",
   "metadata": {},
   "source": [
    "### Now we pass the torch onto you! You can start building your first Decision Tree model! :)"
   ]
  },
  {
   "cell_type": "code",
   "execution_count": 1,
   "metadata": {},
   "outputs": [],
   "source": [
    "import pandas as pd\n",
    "from sklearn.tree import DecisionTreeClassifier\n",
    "from sklearn.metrics import classification_report\n",
    "from sklearn.model_selection import train_test_split\n",
    "from sklearn.model_selection import GridSearchCV\n",
    "from sklearn.metrics import accuracy_score"
   ]
  },
  {
   "cell_type": "code",
   "execution_count": 2,
   "metadata": {},
   "outputs": [
    {
     "data": {
      "text/html": [
       "<div>\n",
       "<style scoped>\n",
       "    .dataframe tbody tr th:only-of-type {\n",
       "        vertical-align: middle;\n",
       "    }\n",
       "\n",
       "    .dataframe tbody tr th {\n",
       "        vertical-align: top;\n",
       "    }\n",
       "\n",
       "    .dataframe thead th {\n",
       "        text-align: right;\n",
       "    }\n",
       "</style>\n",
       "<table border=\"1\" class=\"dataframe\">\n",
       "  <thead>\n",
       "    <tr style=\"text-align: right;\">\n",
       "      <th></th>\n",
       "      <th>Duration</th>\n",
       "      <th>Amount</th>\n",
       "      <th>InstallmentRatePercentage</th>\n",
       "      <th>ResidenceDuration</th>\n",
       "      <th>Age</th>\n",
       "      <th>NumberExistingCredits</th>\n",
       "      <th>NumberPeopleMaintenance</th>\n",
       "      <th>Telephone</th>\n",
       "      <th>ForeignWorker</th>\n",
       "      <th>Class</th>\n",
       "      <th>...</th>\n",
       "      <th>OtherInstallmentPlans.Bank</th>\n",
       "      <th>OtherInstallmentPlans.Stores</th>\n",
       "      <th>OtherInstallmentPlans.None</th>\n",
       "      <th>Housing.Rent</th>\n",
       "      <th>Housing.Own</th>\n",
       "      <th>Housing.ForFree</th>\n",
       "      <th>Job.UnemployedUnskilled</th>\n",
       "      <th>Job.UnskilledResident</th>\n",
       "      <th>Job.SkilledEmployee</th>\n",
       "      <th>Job.Management.SelfEmp.HighlyQualified</th>\n",
       "    </tr>\n",
       "  </thead>\n",
       "  <tbody>\n",
       "    <tr>\n",
       "      <th>0</th>\n",
       "      <td>6</td>\n",
       "      <td>1169</td>\n",
       "      <td>4</td>\n",
       "      <td>4</td>\n",
       "      <td>67</td>\n",
       "      <td>2</td>\n",
       "      <td>1</td>\n",
       "      <td>0</td>\n",
       "      <td>1</td>\n",
       "      <td>Good</td>\n",
       "      <td>...</td>\n",
       "      <td>0</td>\n",
       "      <td>0</td>\n",
       "      <td>1</td>\n",
       "      <td>0</td>\n",
       "      <td>1</td>\n",
       "      <td>0</td>\n",
       "      <td>0</td>\n",
       "      <td>0</td>\n",
       "      <td>1</td>\n",
       "      <td>0</td>\n",
       "    </tr>\n",
       "    <tr>\n",
       "      <th>1</th>\n",
       "      <td>48</td>\n",
       "      <td>5951</td>\n",
       "      <td>2</td>\n",
       "      <td>2</td>\n",
       "      <td>22</td>\n",
       "      <td>1</td>\n",
       "      <td>1</td>\n",
       "      <td>1</td>\n",
       "      <td>1</td>\n",
       "      <td>Bad</td>\n",
       "      <td>...</td>\n",
       "      <td>0</td>\n",
       "      <td>0</td>\n",
       "      <td>1</td>\n",
       "      <td>0</td>\n",
       "      <td>1</td>\n",
       "      <td>0</td>\n",
       "      <td>0</td>\n",
       "      <td>0</td>\n",
       "      <td>1</td>\n",
       "      <td>0</td>\n",
       "    </tr>\n",
       "    <tr>\n",
       "      <th>2</th>\n",
       "      <td>12</td>\n",
       "      <td>2096</td>\n",
       "      <td>2</td>\n",
       "      <td>3</td>\n",
       "      <td>49</td>\n",
       "      <td>1</td>\n",
       "      <td>2</td>\n",
       "      <td>1</td>\n",
       "      <td>1</td>\n",
       "      <td>Good</td>\n",
       "      <td>...</td>\n",
       "      <td>0</td>\n",
       "      <td>0</td>\n",
       "      <td>1</td>\n",
       "      <td>0</td>\n",
       "      <td>1</td>\n",
       "      <td>0</td>\n",
       "      <td>0</td>\n",
       "      <td>1</td>\n",
       "      <td>0</td>\n",
       "      <td>0</td>\n",
       "    </tr>\n",
       "    <tr>\n",
       "      <th>3</th>\n",
       "      <td>42</td>\n",
       "      <td>7882</td>\n",
       "      <td>2</td>\n",
       "      <td>4</td>\n",
       "      <td>45</td>\n",
       "      <td>1</td>\n",
       "      <td>2</td>\n",
       "      <td>1</td>\n",
       "      <td>1</td>\n",
       "      <td>Good</td>\n",
       "      <td>...</td>\n",
       "      <td>0</td>\n",
       "      <td>0</td>\n",
       "      <td>1</td>\n",
       "      <td>0</td>\n",
       "      <td>0</td>\n",
       "      <td>1</td>\n",
       "      <td>0</td>\n",
       "      <td>0</td>\n",
       "      <td>1</td>\n",
       "      <td>0</td>\n",
       "    </tr>\n",
       "    <tr>\n",
       "      <th>4</th>\n",
       "      <td>24</td>\n",
       "      <td>4870</td>\n",
       "      <td>3</td>\n",
       "      <td>4</td>\n",
       "      <td>53</td>\n",
       "      <td>2</td>\n",
       "      <td>2</td>\n",
       "      <td>1</td>\n",
       "      <td>1</td>\n",
       "      <td>Bad</td>\n",
       "      <td>...</td>\n",
       "      <td>0</td>\n",
       "      <td>0</td>\n",
       "      <td>1</td>\n",
       "      <td>0</td>\n",
       "      <td>0</td>\n",
       "      <td>1</td>\n",
       "      <td>0</td>\n",
       "      <td>0</td>\n",
       "      <td>1</td>\n",
       "      <td>0</td>\n",
       "    </tr>\n",
       "  </tbody>\n",
       "</table>\n",
       "<p>5 rows × 62 columns</p>\n",
       "</div>"
      ],
      "text/plain": [
       "   Duration  Amount  InstallmentRatePercentage  ResidenceDuration  Age  \\\n",
       "0         6    1169                          4                  4   67   \n",
       "1        48    5951                          2                  2   22   \n",
       "2        12    2096                          2                  3   49   \n",
       "3        42    7882                          2                  4   45   \n",
       "4        24    4870                          3                  4   53   \n",
       "\n",
       "   NumberExistingCredits  NumberPeopleMaintenance  Telephone  ForeignWorker  \\\n",
       "0                      2                        1          0              1   \n",
       "1                      1                        1          1              1   \n",
       "2                      1                        2          1              1   \n",
       "3                      1                        2          1              1   \n",
       "4                      2                        2          1              1   \n",
       "\n",
       "  Class  ...  OtherInstallmentPlans.Bank  OtherInstallmentPlans.Stores  \\\n",
       "0  Good  ...                           0                             0   \n",
       "1   Bad  ...                           0                             0   \n",
       "2  Good  ...                           0                             0   \n",
       "3  Good  ...                           0                             0   \n",
       "4   Bad  ...                           0                             0   \n",
       "\n",
       "   OtherInstallmentPlans.None  Housing.Rent  Housing.Own  Housing.ForFree  \\\n",
       "0                           1             0            1                0   \n",
       "1                           1             0            1                0   \n",
       "2                           1             0            1                0   \n",
       "3                           1             0            0                1   \n",
       "4                           1             0            0                1   \n",
       "\n",
       "   Job.UnemployedUnskilled  Job.UnskilledResident  Job.SkilledEmployee  \\\n",
       "0                        0                      0                    1   \n",
       "1                        0                      0                    1   \n",
       "2                        0                      1                    0   \n",
       "3                        0                      0                    1   \n",
       "4                        0                      0                    1   \n",
       "\n",
       "   Job.Management.SelfEmp.HighlyQualified  \n",
       "0                                       0  \n",
       "1                                       0  \n",
       "2                                       0  \n",
       "3                                       0  \n",
       "4                                       0  \n",
       "\n",
       "[5 rows x 62 columns]"
      ]
     },
     "execution_count": 2,
     "metadata": {},
     "output_type": "execute_result"
    }
   ],
   "source": [
    "# Your code here! :)\n",
    "\n",
    "# A Peak in The Data\n",
    "Df = pd.read_csv(\"GermanCredit.csv\")\n",
    "Df.head()"
   ]
  },
  {
   "cell_type": "code",
   "execution_count": 3,
   "metadata": {},
   "outputs": [],
   "source": [
    "Columns = Df.columns.array\n",
    "#Columns"
   ]
  },
  {
   "cell_type": "code",
   "execution_count": 4,
   "metadata": {},
   "outputs": [
    {
     "data": {
      "text/plain": [
       "count     1000\n",
       "unique       2\n",
       "top       Good\n",
       "freq       700\n",
       "Name: Class, dtype: object"
      ]
     },
     "execution_count": 4,
     "metadata": {},
     "output_type": "execute_result"
    }
   ],
   "source": [
    "# Finding the Y Column\n",
    "\n",
    "Df['Class'].describe()"
   ]
  },
  {
   "cell_type": "code",
   "execution_count": 5,
   "metadata": {},
   "outputs": [],
   "source": [
    "# Getting X and Y\n",
    "Y = Df['Class'].array\n",
    "#print(Y)\n",
    "Y = [1 if y == 'Good'  else 0 for y in Y]\n",
    "#print(Y)"
   ]
  },
  {
   "cell_type": "code",
   "execution_count": 6,
   "metadata": {},
   "outputs": [
    {
     "data": {
      "text/html": [
       "<div>\n",
       "<style scoped>\n",
       "    .dataframe tbody tr th:only-of-type {\n",
       "        vertical-align: middle;\n",
       "    }\n",
       "\n",
       "    .dataframe tbody tr th {\n",
       "        vertical-align: top;\n",
       "    }\n",
       "\n",
       "    .dataframe thead th {\n",
       "        text-align: right;\n",
       "    }\n",
       "</style>\n",
       "<table border=\"1\" class=\"dataframe\">\n",
       "  <thead>\n",
       "    <tr style=\"text-align: right;\">\n",
       "      <th></th>\n",
       "      <th>Duration</th>\n",
       "      <th>Amount</th>\n",
       "      <th>InstallmentRatePercentage</th>\n",
       "      <th>ResidenceDuration</th>\n",
       "      <th>Age</th>\n",
       "      <th>NumberExistingCredits</th>\n",
       "      <th>NumberPeopleMaintenance</th>\n",
       "      <th>Telephone</th>\n",
       "      <th>ForeignWorker</th>\n",
       "      <th>CheckingAccountStatus.lt.0</th>\n",
       "      <th>...</th>\n",
       "      <th>OtherInstallmentPlans.Bank</th>\n",
       "      <th>OtherInstallmentPlans.Stores</th>\n",
       "      <th>OtherInstallmentPlans.None</th>\n",
       "      <th>Housing.Rent</th>\n",
       "      <th>Housing.Own</th>\n",
       "      <th>Housing.ForFree</th>\n",
       "      <th>Job.UnemployedUnskilled</th>\n",
       "      <th>Job.UnskilledResident</th>\n",
       "      <th>Job.SkilledEmployee</th>\n",
       "      <th>Job.Management.SelfEmp.HighlyQualified</th>\n",
       "    </tr>\n",
       "  </thead>\n",
       "  <tbody>\n",
       "    <tr>\n",
       "      <th>0</th>\n",
       "      <td>6</td>\n",
       "      <td>1169</td>\n",
       "      <td>4</td>\n",
       "      <td>4</td>\n",
       "      <td>67</td>\n",
       "      <td>2</td>\n",
       "      <td>1</td>\n",
       "      <td>0</td>\n",
       "      <td>1</td>\n",
       "      <td>1</td>\n",
       "      <td>...</td>\n",
       "      <td>0</td>\n",
       "      <td>0</td>\n",
       "      <td>1</td>\n",
       "      <td>0</td>\n",
       "      <td>1</td>\n",
       "      <td>0</td>\n",
       "      <td>0</td>\n",
       "      <td>0</td>\n",
       "      <td>1</td>\n",
       "      <td>0</td>\n",
       "    </tr>\n",
       "    <tr>\n",
       "      <th>1</th>\n",
       "      <td>48</td>\n",
       "      <td>5951</td>\n",
       "      <td>2</td>\n",
       "      <td>2</td>\n",
       "      <td>22</td>\n",
       "      <td>1</td>\n",
       "      <td>1</td>\n",
       "      <td>1</td>\n",
       "      <td>1</td>\n",
       "      <td>0</td>\n",
       "      <td>...</td>\n",
       "      <td>0</td>\n",
       "      <td>0</td>\n",
       "      <td>1</td>\n",
       "      <td>0</td>\n",
       "      <td>1</td>\n",
       "      <td>0</td>\n",
       "      <td>0</td>\n",
       "      <td>0</td>\n",
       "      <td>1</td>\n",
       "      <td>0</td>\n",
       "    </tr>\n",
       "    <tr>\n",
       "      <th>2</th>\n",
       "      <td>12</td>\n",
       "      <td>2096</td>\n",
       "      <td>2</td>\n",
       "      <td>3</td>\n",
       "      <td>49</td>\n",
       "      <td>1</td>\n",
       "      <td>2</td>\n",
       "      <td>1</td>\n",
       "      <td>1</td>\n",
       "      <td>0</td>\n",
       "      <td>...</td>\n",
       "      <td>0</td>\n",
       "      <td>0</td>\n",
       "      <td>1</td>\n",
       "      <td>0</td>\n",
       "      <td>1</td>\n",
       "      <td>0</td>\n",
       "      <td>0</td>\n",
       "      <td>1</td>\n",
       "      <td>0</td>\n",
       "      <td>0</td>\n",
       "    </tr>\n",
       "    <tr>\n",
       "      <th>3</th>\n",
       "      <td>42</td>\n",
       "      <td>7882</td>\n",
       "      <td>2</td>\n",
       "      <td>4</td>\n",
       "      <td>45</td>\n",
       "      <td>1</td>\n",
       "      <td>2</td>\n",
       "      <td>1</td>\n",
       "      <td>1</td>\n",
       "      <td>1</td>\n",
       "      <td>...</td>\n",
       "      <td>0</td>\n",
       "      <td>0</td>\n",
       "      <td>1</td>\n",
       "      <td>0</td>\n",
       "      <td>0</td>\n",
       "      <td>1</td>\n",
       "      <td>0</td>\n",
       "      <td>0</td>\n",
       "      <td>1</td>\n",
       "      <td>0</td>\n",
       "    </tr>\n",
       "    <tr>\n",
       "      <th>4</th>\n",
       "      <td>24</td>\n",
       "      <td>4870</td>\n",
       "      <td>3</td>\n",
       "      <td>4</td>\n",
       "      <td>53</td>\n",
       "      <td>2</td>\n",
       "      <td>2</td>\n",
       "      <td>1</td>\n",
       "      <td>1</td>\n",
       "      <td>1</td>\n",
       "      <td>...</td>\n",
       "      <td>0</td>\n",
       "      <td>0</td>\n",
       "      <td>1</td>\n",
       "      <td>0</td>\n",
       "      <td>0</td>\n",
       "      <td>1</td>\n",
       "      <td>0</td>\n",
       "      <td>0</td>\n",
       "      <td>1</td>\n",
       "      <td>0</td>\n",
       "    </tr>\n",
       "  </tbody>\n",
       "</table>\n",
       "<p>5 rows × 61 columns</p>\n",
       "</div>"
      ],
      "text/plain": [
       "   Duration  Amount  InstallmentRatePercentage  ResidenceDuration  Age  \\\n",
       "0         6    1169                          4                  4   67   \n",
       "1        48    5951                          2                  2   22   \n",
       "2        12    2096                          2                  3   49   \n",
       "3        42    7882                          2                  4   45   \n",
       "4        24    4870                          3                  4   53   \n",
       "\n",
       "   NumberExistingCredits  NumberPeopleMaintenance  Telephone  ForeignWorker  \\\n",
       "0                      2                        1          0              1   \n",
       "1                      1                        1          1              1   \n",
       "2                      1                        2          1              1   \n",
       "3                      1                        2          1              1   \n",
       "4                      2                        2          1              1   \n",
       "\n",
       "   CheckingAccountStatus.lt.0  ...  OtherInstallmentPlans.Bank  \\\n",
       "0                           1  ...                           0   \n",
       "1                           0  ...                           0   \n",
       "2                           0  ...                           0   \n",
       "3                           1  ...                           0   \n",
       "4                           1  ...                           0   \n",
       "\n",
       "   OtherInstallmentPlans.Stores  OtherInstallmentPlans.None  Housing.Rent  \\\n",
       "0                             0                           1             0   \n",
       "1                             0                           1             0   \n",
       "2                             0                           1             0   \n",
       "3                             0                           1             0   \n",
       "4                             0                           1             0   \n",
       "\n",
       "   Housing.Own  Housing.ForFree  Job.UnemployedUnskilled  \\\n",
       "0            1                0                        0   \n",
       "1            1                0                        0   \n",
       "2            1                0                        0   \n",
       "3            0                1                        0   \n",
       "4            0                1                        0   \n",
       "\n",
       "   Job.UnskilledResident  Job.SkilledEmployee  \\\n",
       "0                      0                    1   \n",
       "1                      0                    1   \n",
       "2                      1                    0   \n",
       "3                      0                    1   \n",
       "4                      0                    1   \n",
       "\n",
       "   Job.Management.SelfEmp.HighlyQualified  \n",
       "0                                       0  \n",
       "1                                       0  \n",
       "2                                       0  \n",
       "3                                       0  \n",
       "4                                       0  \n",
       "\n",
       "[5 rows x 61 columns]"
      ]
     },
     "execution_count": 6,
     "metadata": {},
     "output_type": "execute_result"
    }
   ],
   "source": [
    "X = Df.drop('Class', axis=1)\n",
    "X.head()"
   ]
  },
  {
   "cell_type": "code",
   "execution_count": 7,
   "metadata": {},
   "outputs": [
    {
     "data": {
      "text/plain": [
       "Index(['Duration', 'Amount', 'InstallmentRatePercentage', 'ResidenceDuration',\n",
       "       'Age', 'NumberExistingCredits', 'NumberPeopleMaintenance', 'Telephone',\n",
       "       'ForeignWorker', 'CheckingAccountStatus.lt.0',\n",
       "       'CheckingAccountStatus.0.to.200', 'CheckingAccountStatus.gt.200',\n",
       "       'CheckingAccountStatus.none', 'CreditHistory.NoCredit.AllPaid',\n",
       "       'CreditHistory.ThisBank.AllPaid', 'CreditHistory.PaidDuly',\n",
       "       'CreditHistory.Delay', 'CreditHistory.Critical', 'Purpose.NewCar',\n",
       "       'Purpose.UsedCar', 'Purpose.Furniture.Equipment',\n",
       "       'Purpose.Radio.Television', 'Purpose.DomesticAppliance',\n",
       "       'Purpose.Repairs', 'Purpose.Education', 'Purpose.Vacation',\n",
       "       'Purpose.Retraining', 'Purpose.Business', 'Purpose.Other',\n",
       "       'SavingsAccountBonds.lt.100', 'SavingsAccountBonds.100.to.500',\n",
       "       'SavingsAccountBonds.500.to.1000', 'SavingsAccountBonds.gt.1000',\n",
       "       'SavingsAccountBonds.Unknown', 'EmploymentDuration.lt.1',\n",
       "       'EmploymentDuration.1.to.4', 'EmploymentDuration.4.to.7',\n",
       "       'EmploymentDuration.gt.7', 'EmploymentDuration.Unemployed',\n",
       "       'Personal.Male.Divorced.Seperated', 'Personal.Female.NotSingle',\n",
       "       'Personal.Male.Single', 'Personal.Male.Married.Widowed',\n",
       "       'Personal.Female.Single', 'OtherDebtorsGuarantors.None',\n",
       "       'OtherDebtorsGuarantors.CoApplicant',\n",
       "       'OtherDebtorsGuarantors.Guarantor', 'Property.RealEstate',\n",
       "       'Property.Insurance', 'Property.CarOther', 'Property.Unknown',\n",
       "       'OtherInstallmentPlans.Bank', 'OtherInstallmentPlans.Stores',\n",
       "       'OtherInstallmentPlans.None', 'Housing.Rent', 'Housing.Own',\n",
       "       'Housing.ForFree', 'Job.UnemployedUnskilled', 'Job.UnskilledResident',\n",
       "       'Job.SkilledEmployee', 'Job.Management.SelfEmp.HighlyQualified'],\n",
       "      dtype='object')"
      ]
     },
     "execution_count": 7,
     "metadata": {},
     "output_type": "execute_result"
    }
   ],
   "source": [
    "X.columns"
   ]
  },
  {
   "cell_type": "code",
   "execution_count": 8,
   "metadata": {},
   "outputs": [
    {
     "name": "stdout",
     "output_type": "stream",
     "text": [
      "DecisionTreeClassifier 0.7272727272727273\n"
     ]
    }
   ],
   "source": [
    "# Creating The Train and Test Data\n",
    "X_train, X_test, y_train, y_test = train_test_split(X, Y, test_size=0.33, random_state=21)\n",
    "\n",
    "# Designing the CLassfier\n",
    "clf = DecisionTreeClassifier(max_depth=4, random_state=256)\n",
    "\n",
    "# Fitting the Model\n",
    "clf.fit(X_train,y_train)\n",
    "\n",
    "# Getting Score\n",
    "y_pred = clf.predict(X_test)\n",
    "print(clf.__class__.__name__, accuracy_score(y_test, y_pred))"
   ]
  },
  {
   "cell_type": "code",
   "execution_count": 9,
   "metadata": {},
   "outputs": [],
   "source": [
    "# Making a general Method to get the Score of any Model\n",
    "\n",
    "def getCLassfierScore(X, Y, test_size, random_state, clf):\n",
    "    # Creating The Train and Test Data\n",
    "    X_train, X_test, y_train, y_test = train_test_split(X, Y, test_size=test_size, random_state=random_state)\n",
    "\n",
    "    # Fitting the Model\n",
    "    clf.fit(X_train,y_train)\n",
    "\n",
    "    # Getting Score\n",
    "    y_pred = clf.predict(X_test)\n",
    "    score = accuracy_score(y_test, y_pred)\n",
    "    print(clf.__class__.__name__, score)\n",
    "    return score"
   ]
  },
  {
   "cell_type": "code",
   "execution_count": 10,
   "metadata": {},
   "outputs": [],
   "source": [
    "def getTop10byValue(_dict):\n",
    "    return sorted(_dict.items(), key =lambda kv:(kv[1], kv[0]))[-10:-1]"
   ]
  },
  {
   "cell_type": "code",
   "execution_count": 11,
   "metadata": {},
   "outputs": [
    {
     "name": "stdout",
     "output_type": "stream",
     "text": [
      "DecisionTreeClassifier 0.7272727272727273\n"
     ]
    },
    {
     "data": {
      "text/plain": [
       "0.7272727272727273"
      ]
     },
     "execution_count": 11,
     "metadata": {},
     "output_type": "execute_result"
    }
   ],
   "source": [
    "#Testing the Method\n",
    "\n",
    "clf = DecisionTreeClassifier(max_depth=4, random_state=256)\n",
    "\n",
    "getCLassfierScore(X,Y,0.33,21,clf)"
   ]
  },
  {
   "cell_type": "code",
   "execution_count": 12,
   "metadata": {},
   "outputs": [
    {
     "name": "stdout",
     "output_type": "stream",
     "text": [
      "DecisionTreeClassifier 0.672\n",
      "DecisionTreeClassifier 0.712\n",
      "DecisionTreeClassifier 0.656\n",
      "DecisionTreeClassifier 0.72\n",
      "DecisionTreeClassifier 0.648\n",
      "DecisionTreeClassifier 0.688\n",
      "DecisionTreeClassifier 0.696\n",
      "DecisionTreeClassifier 0.688\n",
      "DecisionTreeClassifier 0.68\n",
      "DecisionTreeClassifier 0.716\n",
      "DecisionTreeClassifier 0.672\n",
      "DecisionTreeClassifier 0.696\n",
      "DecisionTreeClassifier 0.724\n",
      "DecisionTreeClassifier 0.656\n",
      "DecisionTreeClassifier 0.708\n",
      "DecisionTreeClassifier 0.648\n",
      "DecisionTreeClassifier 0.72\n",
      "DecisionTreeClassifier 0.712\n",
      "DecisionTreeClassifier 0.716\n",
      "DecisionTreeClassifier 0.696\n",
      "DecisionTreeClassifier 0.7\n",
      "DecisionTreeClassifier 0.688\n",
      "DecisionTreeClassifier 0.7\n",
      "DecisionTreeClassifier 0.712\n",
      "DecisionTreeClassifier 0.712\n",
      "DecisionTreeClassifier 0.744\n",
      "DecisionTreeClassifier 0.704\n",
      "DecisionTreeClassifier 0.7\n",
      "DecisionTreeClassifier 0.716\n",
      "DecisionTreeClassifier 0.724\n",
      "DecisionTreeClassifier 0.7028571428571428\n",
      "DecisionTreeClassifier 0.7314285714285714\n",
      "DecisionTreeClassifier 0.66\n",
      "DecisionTreeClassifier 0.7257142857142858\n",
      "DecisionTreeClassifier 0.6685714285714286\n",
      "DecisionTreeClassifier 0.7057142857142857\n",
      "DecisionTreeClassifier 0.68\n",
      "DecisionTreeClassifier 0.6571428571428571\n",
      "DecisionTreeClassifier 0.7028571428571428\n",
      "DecisionTreeClassifier 0.7057142857142857\n",
      "DecisionTreeClassifier 0.6657142857142857\n",
      "DecisionTreeClassifier 0.7257142857142858\n",
      "DecisionTreeClassifier 0.7142857142857143\n",
      "DecisionTreeClassifier 0.6028571428571429\n",
      "DecisionTreeClassifier 0.7057142857142857\n",
      "DecisionTreeClassifier 0.6714285714285714\n",
      "DecisionTreeClassifier 0.6914285714285714\n",
      "DecisionTreeClassifier 0.7028571428571428\n",
      "DecisionTreeClassifier 0.6714285714285714\n",
      "DecisionTreeClassifier 0.6942857142857143\n",
      "DecisionTreeClassifier 0.6857142857142857\n",
      "DecisionTreeClassifier 0.6942857142857143\n",
      "DecisionTreeClassifier 0.6457142857142857\n",
      "DecisionTreeClassifier 0.6942857142857143\n",
      "DecisionTreeClassifier 0.7057142857142857\n",
      "DecisionTreeClassifier 0.7028571428571428\n",
      "DecisionTreeClassifier 0.6742857142857143\n",
      "DecisionTreeClassifier 0.7314285714285714\n",
      "DecisionTreeClassifier 0.6942857142857143\n",
      "DecisionTreeClassifier 0.7285714285714285\n",
      "DecisionTreeClassifier 0.6622222222222223\n",
      "DecisionTreeClassifier 0.7088888888888889\n",
      "DecisionTreeClassifier 0.6822222222222222\n",
      "DecisionTreeClassifier 0.6755555555555556\n",
      "DecisionTreeClassifier 0.6977777777777778\n",
      "DecisionTreeClassifier 0.68\n",
      "DecisionTreeClassifier 0.7133333333333334\n",
      "DecisionTreeClassifier 0.6955555555555556\n",
      "DecisionTreeClassifier 0.6533333333333333\n",
      "DecisionTreeClassifier 0.7088888888888889\n",
      "DecisionTreeClassifier 0.6622222222222223\n",
      "DecisionTreeClassifier 0.6866666666666666\n",
      "DecisionTreeClassifier 0.7088888888888889\n",
      "DecisionTreeClassifier 0.7066666666666667\n",
      "DecisionTreeClassifier 0.7\n",
      "DecisionTreeClassifier 0.7066666666666667\n",
      "DecisionTreeClassifier 0.7355555555555555\n",
      "DecisionTreeClassifier 0.6911111111111111\n",
      "DecisionTreeClassifier 0.6755555555555556\n",
      "DecisionTreeClassifier 0.6955555555555556\n",
      "DecisionTreeClassifier 0.7022222222222222\n",
      "DecisionTreeClassifier 0.6711111111111111\n",
      "DecisionTreeClassifier 0.7133333333333334\n",
      "DecisionTreeClassifier 0.7177777777777777\n",
      "DecisionTreeClassifier 0.7022222222222222\n",
      "DecisionTreeClassifier 0.7288888888888889\n",
      "DecisionTreeClassifier 0.6866666666666666\n",
      "DecisionTreeClassifier 0.7111111111111111\n",
      "DecisionTreeClassifier 0.7133333333333334\n",
      "DecisionTreeClassifier 0.6911111111111111\n",
      "DecisionTreeClassifier 0.6636363636363637\n",
      "DecisionTreeClassifier 0.6981818181818182\n",
      "DecisionTreeClassifier 0.6963636363636364\n",
      "DecisionTreeClassifier 0.7181818181818181\n",
      "DecisionTreeClassifier 0.6363636363636364\n",
      "DecisionTreeClassifier 0.6563636363636364\n",
      "DecisionTreeClassifier 0.7109090909090909\n",
      "DecisionTreeClassifier 0.6909090909090909\n",
      "DecisionTreeClassifier 0.7018181818181818\n",
      "DecisionTreeClassifier 0.6890909090909091\n",
      "DecisionTreeClassifier 0.7\n",
      "DecisionTreeClassifier 0.6872727272727273\n",
      "DecisionTreeClassifier 0.6727272727272727\n",
      "DecisionTreeClassifier 0.6763636363636364\n",
      "DecisionTreeClassifier 0.6854545454545454\n",
      "DecisionTreeClassifier 0.6927272727272727\n",
      "DecisionTreeClassifier 0.6927272727272727\n",
      "DecisionTreeClassifier 0.7054545454545454\n",
      "DecisionTreeClassifier 0.6563636363636364\n",
      "DecisionTreeClassifier 0.6945454545454546\n",
      "DecisionTreeClassifier 0.7072727272727273\n",
      "DecisionTreeClassifier 0.7109090909090909\n",
      "DecisionTreeClassifier 0.66\n",
      "DecisionTreeClassifier 0.7181818181818181\n",
      "DecisionTreeClassifier 0.6854545454545454\n",
      "DecisionTreeClassifier 0.7054545454545454\n",
      "DecisionTreeClassifier 0.6745454545454546\n",
      "DecisionTreeClassifier 0.6927272727272727\n",
      "DecisionTreeClassifier 0.6872727272727273\n",
      "DecisionTreeClassifier 0.6963636363636364\n",
      "DecisionTreeClassifier 0.6923076923076923\n",
      "DecisionTreeClassifier 0.7092307692307692\n",
      "DecisionTreeClassifier 0.7061538461538461\n",
      "DecisionTreeClassifier 0.7261538461538461\n",
      "DecisionTreeClassifier 0.6538461538461539\n",
      "DecisionTreeClassifier 0.6738461538461539\n",
      "DecisionTreeClassifier 0.703076923076923\n",
      "DecisionTreeClassifier 0.6953846153846154\n",
      "DecisionTreeClassifier 0.6923076923076923\n",
      "DecisionTreeClassifier 0.68\n",
      "DecisionTreeClassifier 0.7092307692307692\n",
      "DecisionTreeClassifier 0.7046153846153846\n",
      "DecisionTreeClassifier 0.6923076923076923\n",
      "DecisionTreeClassifier 0.6353846153846154\n",
      "DecisionTreeClassifier 0.6723076923076923\n",
      "DecisionTreeClassifier 0.7138461538461538\n",
      "DecisionTreeClassifier 0.7061538461538461\n",
      "DecisionTreeClassifier 0.7307692307692307\n",
      "DecisionTreeClassifier 0.676923076923077\n",
      "DecisionTreeClassifier 0.7169230769230769\n",
      "DecisionTreeClassifier 0.7184615384615385\n",
      "DecisionTreeClassifier 0.683076923076923\n",
      "DecisionTreeClassifier 0.7138461538461538\n",
      "DecisionTreeClassifier 0.72\n",
      "DecisionTreeClassifier 0.676923076923077\n",
      "DecisionTreeClassifier 0.6753846153846154\n",
      "DecisionTreeClassifier 0.6815384615384615\n",
      "DecisionTreeClassifier 0.6692307692307692\n",
      "DecisionTreeClassifier 0.6846153846153846\n",
      "DecisionTreeClassifier 0.7046153846153846\n",
      "DecisionTreeClassifier 0.696\n",
      "DecisionTreeClassifier 0.6946666666666667\n",
      "DecisionTreeClassifier 0.728\n",
      "DecisionTreeClassifier 0.716\n",
      "DecisionTreeClassifier 0.656\n",
      "DecisionTreeClassifier 0.6733333333333333\n",
      "DecisionTreeClassifier 0.7013333333333334\n",
      "DecisionTreeClassifier 0.6586666666666666\n",
      "DecisionTreeClassifier 0.68\n",
      "DecisionTreeClassifier 0.7173333333333334\n",
      "DecisionTreeClassifier 0.6893333333333334\n",
      "DecisionTreeClassifier 0.72\n",
      "DecisionTreeClassifier 0.6653333333333333\n",
      "DecisionTreeClassifier 0.6666666666666666\n",
      "DecisionTreeClassifier 0.6733333333333333\n",
      "DecisionTreeClassifier 0.724\n",
      "DecisionTreeClassifier 0.72\n",
      "DecisionTreeClassifier 0.7\n",
      "DecisionTreeClassifier 0.66\n",
      "DecisionTreeClassifier 0.6933333333333334\n",
      "DecisionTreeClassifier 0.688\n",
      "DecisionTreeClassifier 0.6933333333333334\n",
      "DecisionTreeClassifier 0.6413333333333333\n",
      "DecisionTreeClassifier 0.6386666666666667\n",
      "DecisionTreeClassifier 0.6826666666666666\n",
      "DecisionTreeClassifier 0.6813333333333333\n",
      "DecisionTreeClassifier 0.688\n",
      "DecisionTreeClassifier 0.7053333333333334\n",
      "DecisionTreeClassifier 0.6613333333333333\n",
      "DecisionTreeClassifier 0.696\n",
      "DecisionTreeClassifier 0.6976470588235294\n",
      "DecisionTreeClassifier 0.5529411764705883\n",
      "DecisionTreeClassifier 0.6929411764705883\n",
      "DecisionTreeClassifier 0.7\n",
      "DecisionTreeClassifier 0.6341176470588236\n",
      "DecisionTreeClassifier 0.66\n",
      "DecisionTreeClassifier 0.7152941176470589\n",
      "DecisionTreeClassifier 0.6870588235294117\n",
      "DecisionTreeClassifier 0.66\n",
      "DecisionTreeClassifier 0.6341176470588236\n",
      "DecisionTreeClassifier 0.6105882352941177\n",
      "DecisionTreeClassifier 0.6647058823529411\n",
      "DecisionTreeClassifier 0.6670588235294118\n",
      "DecisionTreeClassifier 0.6188235294117647\n",
      "DecisionTreeClassifier 0.6929411764705883\n",
      "DecisionTreeClassifier 0.6835294117647058\n",
      "DecisionTreeClassifier 0.6670588235294118\n",
      "DecisionTreeClassifier 0.6952941176470588\n",
      "DecisionTreeClassifier 0.6658823529411765\n",
      "DecisionTreeClassifier 0.691764705882353\n",
      "DecisionTreeClassifier 0.7011764705882353\n",
      "DecisionTreeClassifier 0.6411764705882353\n",
      "DecisionTreeClassifier 0.6811764705882353\n",
      "DecisionTreeClassifier 0.66\n",
      "DecisionTreeClassifier 0.6635294117647059\n",
      "DecisionTreeClassifier 0.6847058823529412\n",
      "DecisionTreeClassifier 0.6705882352941176\n",
      "DecisionTreeClassifier 0.6776470588235294\n",
      "DecisionTreeClassifier 0.6564705882352941\n",
      "DecisionTreeClassifier 0.6635294117647059\n",
      "DecisionTreeClassifier 0.6378947368421053\n",
      "DecisionTreeClassifier 0.6431578947368422\n",
      "DecisionTreeClassifier 0.6463157894736842\n",
      "DecisionTreeClassifier 0.6778947368421052\n",
      "DecisionTreeClassifier 0.6357894736842106\n",
      "DecisionTreeClassifier 0.6610526315789473\n",
      "DecisionTreeClassifier 0.6873684210526316\n",
      "DecisionTreeClassifier 0.5978947368421053\n",
      "DecisionTreeClassifier 0.6757894736842105\n",
      "DecisionTreeClassifier 0.5852631578947368\n"
     ]
    },
    {
     "name": "stdout",
     "output_type": "stream",
     "text": [
      "DecisionTreeClassifier 0.6263157894736842\n",
      "DecisionTreeClassifier 0.6663157894736842\n",
      "DecisionTreeClassifier 0.5284210526315789\n",
      "DecisionTreeClassifier 0.6378947368421053\n",
      "DecisionTreeClassifier 0.7052631578947368\n",
      "DecisionTreeClassifier 0.6747368421052632\n",
      "DecisionTreeClassifier 0.6863157894736842\n",
      "DecisionTreeClassifier 0.7\n",
      "DecisionTreeClassifier 0.6389473684210526\n",
      "DecisionTreeClassifier 0.6410526315789473\n",
      "DecisionTreeClassifier 0.6252631578947369\n",
      "DecisionTreeClassifier 0.6378947368421053\n",
      "DecisionTreeClassifier 0.6789473684210526\n",
      "DecisionTreeClassifier 0.6694736842105263\n",
      "DecisionTreeClassifier 0.6242105263157894\n",
      "DecisionTreeClassifier 0.6705263157894736\n",
      "DecisionTreeClassifier 0.6452631578947369\n",
      "DecisionTreeClassifier 0.6663157894736842\n",
      "DecisionTreeClassifier 0.6610526315789473\n",
      "DecisionTreeClassifier 0.6947368421052632\n"
     ]
    }
   ],
   "source": [
    "# Finding the best Data split\n",
    "\n",
    "# Started with test_size 0.1 - 1 and 1 tp 100 random state.\n",
    "_SplitDict = {}\n",
    "\n",
    "for i in range(25,100,10):\n",
    "    for j in range(50,80):\n",
    "        _SplitDict[(i/100,j)] = getCLassfierScore(X,Y,i/100,j,clf)"
   ]
  },
  {
   "cell_type": "code",
   "execution_count": 13,
   "metadata": {},
   "outputs": [],
   "source": [
    "#_SplitDict"
   ]
  },
  {
   "cell_type": "code",
   "execution_count": 14,
   "metadata": {},
   "outputs": [
    {
     "data": {
      "text/plain": [
       "[((0.35, 61), 0.7257142857142858),\n",
       " ((0.65, 53), 0.7261538461538461),\n",
       " ((0.75, 52), 0.728),\n",
       " ((0.35, 79), 0.7285714285714285),\n",
       " ((0.45, 75), 0.7288888888888889),\n",
       " ((0.65, 67), 0.7307692307692307),\n",
       " ((0.35, 51), 0.7314285714285714),\n",
       " ((0.35, 77), 0.7314285714285714),\n",
       " ((0.45, 66), 0.7355555555555555)]"
      ]
     },
     "execution_count": 14,
     "metadata": {},
     "output_type": "execute_result"
    }
   ],
   "source": [
    "#c Top 10 test_size and random_state pair\n",
    "# sorted(_SplitDict.items(), key =lambda kv:(kv[1], kv[0]))[-10:-1]\n",
    "getTop10byValue(_SplitDict)"
   ]
  },
  {
   "cell_type": "code",
   "execution_count": 15,
   "metadata": {},
   "outputs": [],
   "source": [
    "# Best Data Distribution with 0.35(Repeated Most times in the Top 10) test Size and 77 random_state\n",
    "best_test_size = 0.35\n",
    "best_random_state = 77"
   ]
  },
  {
   "cell_type": "code",
   "execution_count": 16,
   "metadata": {},
   "outputs": [
    {
     "name": "stdout",
     "output_type": "stream",
     "text": [
      "7 250\n",
      "DecisionTreeClassifier 0.7342857142857143\n",
      "7 251\n",
      "DecisionTreeClassifier 0.7342857142857143\n",
      "7 252\n",
      "DecisionTreeClassifier 0.7342857142857143\n",
      "7 253\n",
      "DecisionTreeClassifier 0.7342857142857143\n",
      "7 254\n",
      "DecisionTreeClassifier 0.74\n",
      "7 255\n",
      "DecisionTreeClassifier 0.7342857142857143\n",
      "7 256\n",
      "DecisionTreeClassifier 0.7342857142857143\n",
      "7 257\n",
      "DecisionTreeClassifier 0.7371428571428571\n",
      "7 258\n",
      "DecisionTreeClassifier 0.7457142857142857\n",
      "7 259\n",
      "DecisionTreeClassifier 0.7371428571428571\n",
      "7 260\n",
      "DecisionTreeClassifier 0.7342857142857143\n",
      "7 261\n",
      "DecisionTreeClassifier 0.7342857142857143\n",
      "7 262\n",
      "DecisionTreeClassifier 0.7371428571428571\n",
      "7 263\n",
      "DecisionTreeClassifier 0.7428571428571429\n",
      "7 264\n",
      "DecisionTreeClassifier 0.74\n",
      "7 265\n",
      "DecisionTreeClassifier 0.7457142857142857\n",
      "7 266\n",
      "DecisionTreeClassifier 0.7342857142857143\n",
      "7 267\n",
      "DecisionTreeClassifier 0.7342857142857143\n",
      "7 268\n",
      "DecisionTreeClassifier 0.74\n",
      "7 269\n",
      "DecisionTreeClassifier 0.74\n",
      "7 270\n",
      "DecisionTreeClassifier 0.7314285714285714\n",
      "7 271\n",
      "DecisionTreeClassifier 0.7285714285714285\n",
      "7 272\n",
      "DecisionTreeClassifier 0.74\n",
      "7 273\n",
      "DecisionTreeClassifier 0.7285714285714285\n",
      "7 274\n",
      "DecisionTreeClassifier 0.7285714285714285\n",
      "7 275\n",
      "DecisionTreeClassifier 0.7371428571428571\n",
      "7 276\n",
      "DecisionTreeClassifier 0.74\n",
      "7 277\n",
      "DecisionTreeClassifier 0.7285714285714285\n",
      "7 278\n",
      "DecisionTreeClassifier 0.7314285714285714\n",
      "7 279\n",
      "DecisionTreeClassifier 0.7428571428571429\n",
      "7 280\n",
      "DecisionTreeClassifier 0.7342857142857143\n",
      "7 281\n",
      "DecisionTreeClassifier 0.7342857142857143\n",
      "7 282\n",
      "DecisionTreeClassifier 0.7342857142857143\n",
      "7 283\n",
      "DecisionTreeClassifier 0.7342857142857143\n",
      "7 284\n",
      "DecisionTreeClassifier 0.74\n",
      "7 285\n",
      "DecisionTreeClassifier 0.7342857142857143\n",
      "7 286\n",
      "DecisionTreeClassifier 0.7342857142857143\n",
      "7 287\n",
      "DecisionTreeClassifier 0.7342857142857143\n",
      "7 288\n",
      "DecisionTreeClassifier 0.7314285714285714\n",
      "7 289\n",
      "DecisionTreeClassifier 0.7342857142857143\n",
      "7 290\n",
      "DecisionTreeClassifier 0.7371428571428571\n",
      "7 291\n",
      "DecisionTreeClassifier 0.7314285714285714\n",
      "7 292\n",
      "DecisionTreeClassifier 0.7371428571428571\n",
      "7 293\n",
      "DecisionTreeClassifier 0.7342857142857143\n",
      "7 294\n",
      "DecisionTreeClassifier 0.74\n",
      "7 295\n",
      "DecisionTreeClassifier 0.7371428571428571\n",
      "7 296\n",
      "DecisionTreeClassifier 0.7371428571428571\n",
      "7 297\n",
      "DecisionTreeClassifier 0.7342857142857143\n",
      "7 298\n",
      "DecisionTreeClassifier 0.74\n",
      "7 299\n",
      "DecisionTreeClassifier 0.7314285714285714\n",
      "7 300\n",
      "DecisionTreeClassifier 0.7285714285714285\n",
      "7 301\n",
      "DecisionTreeClassifier 0.74\n",
      "7 302\n",
      "DecisionTreeClassifier 0.74\n",
      "7 303\n",
      "DecisionTreeClassifier 0.74\n",
      "7 304\n",
      "DecisionTreeClassifier 0.7257142857142858\n",
      "7 305\n",
      "DecisionTreeClassifier 0.7371428571428571\n",
      "7 306\n",
      "DecisionTreeClassifier 0.7428571428571429\n",
      "7 307\n",
      "DecisionTreeClassifier 0.74\n",
      "7 308\n",
      "DecisionTreeClassifier 0.74\n",
      "7 309\n",
      "DecisionTreeClassifier 0.7428571428571429\n",
      "7 310\n",
      "DecisionTreeClassifier 0.7257142857142858\n",
      "7 311\n",
      "DecisionTreeClassifier 0.74\n",
      "7 312\n",
      "DecisionTreeClassifier 0.7371428571428571\n",
      "7 313\n",
      "DecisionTreeClassifier 0.74\n",
      "7 314\n",
      "DecisionTreeClassifier 0.7371428571428571\n",
      "7 315\n",
      "DecisionTreeClassifier 0.7371428571428571\n",
      "7 316\n",
      "DecisionTreeClassifier 0.7342857142857143\n",
      "7 317\n",
      "DecisionTreeClassifier 0.7371428571428571\n",
      "7 318\n",
      "DecisionTreeClassifier 0.74\n",
      "7 319\n",
      "DecisionTreeClassifier 0.7342857142857143\n",
      "7 320\n",
      "DecisionTreeClassifier 0.7371428571428571\n",
      "7 321\n",
      "DecisionTreeClassifier 0.7342857142857143\n",
      "7 322\n",
      "DecisionTreeClassifier 0.7371428571428571\n",
      "7 323\n",
      "DecisionTreeClassifier 0.74\n",
      "7 324\n",
      "DecisionTreeClassifier 0.7342857142857143\n",
      "7 325\n",
      "DecisionTreeClassifier 0.7314285714285714\n",
      "7 326\n",
      "DecisionTreeClassifier 0.7371428571428571\n",
      "7 327\n",
      "DecisionTreeClassifier 0.7314285714285714\n",
      "7 328\n",
      "DecisionTreeClassifier 0.74\n",
      "7 329\n",
      "DecisionTreeClassifier 0.7371428571428571\n",
      "7 330\n",
      "DecisionTreeClassifier 0.7314285714285714\n",
      "7 331\n",
      "DecisionTreeClassifier 0.7342857142857143\n",
      "7 332\n",
      "DecisionTreeClassifier 0.74\n",
      "7 333\n",
      "DecisionTreeClassifier 0.7314285714285714\n",
      "7 334\n",
      "DecisionTreeClassifier 0.7285714285714285\n",
      "7 335\n",
      "DecisionTreeClassifier 0.74\n",
      "7 336\n",
      "DecisionTreeClassifier 0.7314285714285714\n",
      "7 337\n",
      "DecisionTreeClassifier 0.7285714285714285\n",
      "7 338\n",
      "DecisionTreeClassifier 0.7371428571428571\n",
      "7 339\n",
      "DecisionTreeClassifier 0.7314285714285714\n",
      "7 340\n",
      "DecisionTreeClassifier 0.7314285714285714\n",
      "7 341\n",
      "DecisionTreeClassifier 0.74\n",
      "7 342\n",
      "DecisionTreeClassifier 0.7342857142857143\n",
      "7 343\n",
      "DecisionTreeClassifier 0.7342857142857143\n",
      "7 344\n",
      "DecisionTreeClassifier 0.7371428571428571\n",
      "7 345\n",
      "DecisionTreeClassifier 0.7314285714285714\n",
      "7 346\n",
      "DecisionTreeClassifier 0.7314285714285714\n",
      "7 347\n",
      "DecisionTreeClassifier 0.7428571428571429\n",
      "7 348\n",
      "DecisionTreeClassifier 0.7285714285714285\n",
      "7 349\n",
      "DecisionTreeClassifier 0.7342857142857143\n"
     ]
    }
   ],
   "source": [
    "# Chosing best Model with Max Depth and Random State\n",
    "\n",
    "ClfDict = {}\n",
    "\n",
    "for d in range(7,8):\n",
    "    for r in range(250,350,1):\n",
    "        print(d,r)\n",
    "        ClfDict[(d,r)] = getCLassfierScore(X,Y,best_test_size,best_random_state,\n",
    "                                           DecisionTreeClassifier(max_depth=d, random_state=r))"
   ]
  },
  {
   "cell_type": "code",
   "execution_count": 17,
   "metadata": {},
   "outputs": [
    {
     "data": {
      "text/plain": [
       "[((7, 332), 0.74),\n",
       " ((7, 335), 0.74),\n",
       " ((7, 341), 0.74),\n",
       " ((7, 263), 0.7428571428571429),\n",
       " ((7, 279), 0.7428571428571429),\n",
       " ((7, 306), 0.7428571428571429),\n",
       " ((7, 309), 0.7428571428571429),\n",
       " ((7, 347), 0.7428571428571429),\n",
       " ((7, 258), 0.7457142857142857)]"
      ]
     },
     "execution_count": 17,
     "metadata": {},
     "output_type": "execute_result"
    }
   ],
   "source": [
    "#sorted(ClfDict.items(), key =lambda kv:(kv[1], kv[0]))[-10:-1]\n",
    "getTop10byValue(ClfDict)"
   ]
  },
  {
   "cell_type": "code",
   "execution_count": 18,
   "metadata": {},
   "outputs": [],
   "source": [
    "# Best CLF Attributes\n",
    "best_max_depth = 7\n",
    "best_random_state = 258"
   ]
  },
  {
   "cell_type": "code",
   "execution_count": 19,
   "metadata": {},
   "outputs": [],
   "source": [
    "# Best Model \n",
    "best_clf = DecisionTreeClassifier(max_depth=best_max_depth, random_state=best_random_state)"
   ]
  },
  {
   "cell_type": "code",
   "execution_count": 20,
   "metadata": {},
   "outputs": [
    {
     "data": {
      "text/plain": [
       "DecisionTreeClassifier(max_depth=7, random_state=258)"
      ]
     },
     "execution_count": 20,
     "metadata": {},
     "output_type": "execute_result"
    }
   ],
   "source": [
    "best_clf.fit(X,Y)"
   ]
  },
  {
   "cell_type": "markdown",
   "metadata": {},
   "source": [
    "### After you've built the best model you can, now it's time to visualize it!"
   ]
  },
  {
   "cell_type": "markdown",
   "metadata": {},
   "source": [
    "Rememeber that amazing blog post from a few paragraphs ago, that demonstrated how to visualize and interpret the results of your Decision Tree model. We've seen that this can perform very well, but let's see how it does on the \"German Credit\" dataset that we're working on, due to it being a bit larger than the one used by the blog authors."
   ]
  },
  {
   "cell_type": "markdown",
   "metadata": {},
   "source": [
    "First, we're going to need to install their package. If you're using Anaconda, this can be done easily by running:"
   ]
  },
  {
   "cell_type": "code",
   "execution_count": 55,
   "metadata": {},
   "outputs": [],
   "source": [
    "#! pip install dtreeviz"
   ]
  },
  {
   "cell_type": "code",
   "execution_count": 22,
   "metadata": {
    "scrolled": true
   },
   "outputs": [],
   "source": [
    "#!conda install python-graphviz"
   ]
  },
  {
   "cell_type": "code",
   "execution_count": 25,
   "metadata": {},
   "outputs": [],
   "source": [
    "import graphviz\n",
    "from sklearn import tree\n",
    "dot_data = tree.export_graphviz(best_clf, out_file=None)\n",
    "#import pdb pdb.set_trace()\n",
    "graph = graphviz.Source(dot_data)"
   ]
  },
  {
   "cell_type": "code",
   "execution_count": 26,
   "metadata": {},
   "outputs": [],
   "source": [
    "from sklearn.tree import export_graphviz\n",
    "\n",
    "export_graphviz(best_clf,\n",
    "               out_file=\"BestDecisionTreeClassifier.dot\",\n",
    "               feature_names=X.columns,\n",
    "               class_names=\"Class\",\n",
    "               rounded=True,\n",
    "               filled=True)"
   ]
  },
  {
   "cell_type": "code",
   "execution_count": 27,
   "metadata": {},
   "outputs": [],
   "source": [
    "# To get the Image from dot to png or pdf follow below steps.\n",
    "# 1. Go to the the folder location of the .dot file, by default it has the same parent as the running notebook\n",
    "# 2. \"dot -Tpng BestDecisionTreeClassifier.dot -o BestDecisionTreeClassifier[.png/.pdf]\" run it in terminal."
   ]
  },
  {
   "cell_type": "markdown",
   "metadata": {},
   "source": [
    "If for any reason this way of installing doesn't work for you straight out of the box, please refer to the more detailed documentation here: https://github.com/parrt/dtreeviz"
   ]
  },
  {
   "cell_type": "markdown",
   "metadata": {},
   "source": [
    "Now you're ready to visualize your Decision Tree model! Please feel free to use the blog post for guidance and inspiration!"
   ]
  },
  {
   "cell_type": "code",
   "execution_count": 28,
   "metadata": {},
   "outputs": [],
   "source": [
    "X_train, X_test, y_train, y_test = train_test_split(X, Y, test_size=best_test_size, random_state=best_random_state)"
   ]
  },
  {
   "cell_type": "code",
   "execution_count": 29,
   "metadata": {},
   "outputs": [],
   "source": [
    "from IPython.core.display import display, HTML"
   ]
  },
  {
   "cell_type": "code",
   "execution_count": 30,
   "metadata": {},
   "outputs": [
    {
     "name": "stdout",
     "output_type": "stream",
     "text": [
      "DecisionTreeClassifier 0.7257142857142858\n"
     ]
    }
   ],
   "source": [
    "clf = DecisionTreeClassifier(max_depth=2)\n",
    "clf.fit(X_train,y_train)\n",
    "\n",
    "y_pred = clf.predict(X_test)\n",
    "print(clf.__class__.__name__, accuracy_score(y_test, y_pred))"
   ]
  },
  {
   "cell_type": "markdown",
   "metadata": {},
   "source": [
    "# Visualization\n",
    "\n",
    "from dtreeviz.trees import *\n",
    "viz2 = dtreeviz(best_clf,\n",
    "               X_train,\n",
    "               y_train,\n",
    "               target_name='Class',\n",
    "               feature_names=X.columns.to_list(),\n",
    "              class_names=[0,1])\n",
    "#viz2.view()\n",
    "display(HTML(viz2.svg()))"
   ]
  },
  {
   "cell_type": "markdown",
   "metadata": {},
   "source": [
    "regr = tree.DecisionTreeRegressor(max_depth=2)\n",
    "regr.fit(XArray, YArray)\n",
    "\n",
    "viz = dtreeviz(regr,\n",
    "               X_train,\n",
    "               y_train,\n",
    "               target_name='Class',\n",
    "               feature_names=X.columns.to_list())\n",
    "              \n",
    "#viz.view()"
   ]
  },
  {
   "cell_type": "code",
   "execution_count": 31,
   "metadata": {},
   "outputs": [],
   "source": [
    "import warnings\n",
    "warnings.filterwarnings('ignore')"
   ]
  },
  {
   "cell_type": "markdown",
   "metadata": {},
   "source": [
    "## Random Forests"
   ]
  },
  {
   "cell_type": "markdown",
   "metadata": {},
   "source": [
    "As discussed in the lecture videos, Decision Tree algorithms also have certain undesireable properties. Mainly the have low bias, which is good, but tend to have high variance - which is *not* so good (more about this problem here: https://en.wikipedia.org/wiki/Bias%E2%80%93variance_tradeoff)."
   ]
  },
  {
   "cell_type": "markdown",
   "metadata": {},
   "source": [
    "Noticing these problems, the late Professor Leo Breiman, in 2001, developed the Random Forests algorithm, which mitigates these problems, while at the same time providing even higher predictive accuracy than the majority of Decision Tree algorithm implementations. While the curriculum contains two excellent lectures on Random Forests, if you're interested, you can dive into the original paper here: https://link.springer.com/content/pdf/10.1023%2FA%3A1010933404324.pdf."
   ]
  },
  {
   "cell_type": "markdown",
   "metadata": {},
   "source": [
    "In the next part of this assignment, your are going to use the same \"German Credit\" dataset to train, tune, and measure the performance of a Random Forests model. You will also see certain functionalities that this model, even though it's a bit of a \"black box\", provides for some degree of interpretability."
   ]
  },
  {
   "cell_type": "markdown",
   "metadata": {},
   "source": [
    "First, let's build a Random Forests model, using the same best practices that you've used for your Decision Trees model. You can reuse the things you've already imported there, so no need to do any re-imports, new train/test splits, or loading up the data again."
   ]
  },
  {
   "cell_type": "code",
   "execution_count": 32,
   "metadata": {},
   "outputs": [],
   "source": [
    "# Random Forest\n",
    "from sklearn.ensemble import RandomForestClassifier"
   ]
  },
  {
   "cell_type": "code",
   "execution_count": 33,
   "metadata": {},
   "outputs": [
    {
     "name": "stdout",
     "output_type": "stream",
     "text": [
      "RandomForestClassifier 0.7685714285714286\n",
      "RandomForestClassifier 0.7657142857142857\n",
      "RandomForestClassifier 0.7742857142857142\n",
      "RandomForestClassifier 0.7685714285714286\n",
      "RandomForestClassifier 0.7685714285714286\n",
      "RandomForestClassifier 0.7685714285714286\n",
      "RandomForestClassifier 0.7714285714285715\n",
      "RandomForestClassifier 0.7714285714285715\n",
      "RandomForestClassifier 0.7742857142857142\n",
      "RandomForestClassifier 0.7714285714285715\n",
      "RandomForestClassifier 0.7714285714285715\n",
      "RandomForestClassifier 0.7714285714285715\n",
      "RandomForestClassifier 0.7714285714285715\n",
      "RandomForestClassifier 0.7742857142857142\n",
      "RandomForestClassifier 0.7771428571428571\n",
      "RandomForestClassifier 0.7771428571428571\n",
      "RandomForestClassifier 0.7742857142857142\n",
      "RandomForestClassifier 0.7714285714285715\n",
      "RandomForestClassifier 0.7742857142857142\n"
     ]
    }
   ],
   "source": [
    "# Best Estimator Count\n",
    "estiDict = {}\n",
    "\n",
    "for i in range(50,1000,50):\n",
    "    rnd_clf = RandomForestClassifier(n_estimators=i, max_depth=best_max_depth,\n",
    "                                     random_state=best_random_state, n_jobs=-1)\n",
    "    estiDict[i] = getCLassfierScore(X, Y, best_test_size, best_random_state, rnd_clf)"
   ]
  },
  {
   "cell_type": "code",
   "execution_count": 34,
   "metadata": {},
   "outputs": [
    {
     "data": {
      "text/plain": [
       "[(600, 0.7714285714285715),\n",
       " (650, 0.7714285714285715),\n",
       " (900, 0.7714285714285715),\n",
       " (150, 0.7742857142857142),\n",
       " (450, 0.7742857142857142),\n",
       " (700, 0.7742857142857142),\n",
       " (850, 0.7742857142857142),\n",
       " (950, 0.7742857142857142),\n",
       " (750, 0.7771428571428571)]"
      ]
     },
     "execution_count": 34,
     "metadata": {},
     "output_type": "execute_result"
    }
   ],
   "source": [
    "getTop10byValue(estiDict)"
   ]
  },
  {
   "cell_type": "code",
   "execution_count": 35,
   "metadata": {},
   "outputs": [],
   "source": [
    "best_estimator_count = 750"
   ]
  },
  {
   "cell_type": "code",
   "execution_count": 36,
   "metadata": {},
   "outputs": [],
   "source": [
    "rnd_clf = RandomForestClassifier(n_estimators=best_estimator_count, max_depth=best_max_depth,\n",
    "                                     random_state=best_random_state, n_jobs=-1)"
   ]
  },
  {
   "cell_type": "markdown",
   "metadata": {},
   "source": [
    "As mentioned, there are certain ways to \"peek\" into a model created by the Random Forests algorithm. The first, and most popular one, is the Feature Importance calculation functionality. This allows the ML practitioner to see an ordering of the importance of the features that have contributed the most to the predictive accuracy of the model. \n",
    "\n",
    "You can see how to use this in the scikit-learn documentation (http://scikit-learn.org/stable/modules/generated/sklearn.ensemble.RandomForestClassifier.html#sklearn.ensemble.RandomForestClassifier.feature_importances_). Now, if you tried this, you would just get an ordered table of not directly interpretable numeric values. Thus, it's much more useful to show the feature importance in a visual way. You can see an example of how that's done here: http://scikit-learn.org/stable/auto_examples/ensemble/plot_forest_importances.html#sphx-glr-auto-examples-ensemble-plot-forest-importances-py\n",
    "\n",
    "Now you try! Let's visualize the importance of features from your Random Forests model!"
   ]
  },
  {
   "cell_type": "code",
   "execution_count": 37,
   "metadata": {},
   "outputs": [],
   "source": [
    "# Feature Importance\n",
    "\n",
    "featureDict = {}\n",
    "\n",
    "rnd_clf.fit(X_train, y_train)\n",
    "for name, score in zip(X_train.columns, rnd_clf.feature_importances_):\n",
    "    featureDict[name] = score"
   ]
  },
  {
   "cell_type": "code",
   "execution_count": 38,
   "metadata": {},
   "outputs": [
    {
     "data": {
      "text/plain": [
       "[('ResidenceDuration', 0.023945060165329476),\n",
       " ('CreditHistory.NoCredit.AllPaid', 0.02491873413141601),\n",
       " ('CreditHistory.Critical', 0.025382541199398985),\n",
       " ('SavingsAccountBonds.lt.100', 0.02719133806992855),\n",
       " ('InstallmentRatePercentage', 0.032473988098176074),\n",
       " ('CheckingAccountStatus.lt.0', 0.04647635895576732),\n",
       " ('Age', 0.06237124594377075),\n",
       " ('CheckingAccountStatus.none', 0.0886085246267893),\n",
       " ('Amount', 0.08877646186772409)]"
      ]
     },
     "execution_count": 38,
     "metadata": {},
     "output_type": "execute_result"
    }
   ],
   "source": [
    "getTop10byValue(featureDict)"
   ]
  },
  {
   "cell_type": "code",
   "execution_count": 39,
   "metadata": {},
   "outputs": [],
   "source": [
    "# Voting Classifiers"
   ]
  },
  {
   "cell_type": "code",
   "execution_count": 40,
   "metadata": {},
   "outputs": [],
   "source": [
    "X_train, X_test, y_train, y_test = train_test_split(X, Y, test_size=best_test_size, random_state=best_random_state)"
   ]
  },
  {
   "cell_type": "code",
   "execution_count": 41,
   "metadata": {},
   "outputs": [],
   "source": [
    "from sklearn.ensemble import RandomForestClassifier\n",
    "from sklearn.ensemble import VotingClassifier\n",
    "from sklearn.linear_model import LogisticRegression\n",
    "from sklearn.svm import SVC"
   ]
  },
  {
   "cell_type": "code",
   "execution_count": 42,
   "metadata": {},
   "outputs": [],
   "source": [
    "# Your code here! :)\n",
    "rnd_clf = RandomForestClassifier(n_estimators=1500, max_depth=7,random_state=best_random_state, n_jobs=-1)\n",
    "log_clf = LogisticRegression()\n",
    "svm_clf = SVC()\n",
    "\n",
    "\n",
    "voting_clf = VotingClassifier(estimators=[('lr', log_clf), ('rf', rnd_clf), ('svc', svm_clf)], voting='hard')"
   ]
  },
  {
   "cell_type": "code",
   "execution_count": 43,
   "metadata": {},
   "outputs": [
    {
     "data": {
      "text/plain": [
       "VotingClassifier(estimators=[('lr', LogisticRegression()),\n",
       "                             ('rf',\n",
       "                              RandomForestClassifier(max_depth=7,\n",
       "                                                     n_estimators=1500,\n",
       "                                                     n_jobs=-1,\n",
       "                                                     random_state=258)),\n",
       "                             ('svc', SVC())])"
      ]
     },
     "execution_count": 43,
     "metadata": {},
     "output_type": "execute_result"
    }
   ],
   "source": [
    "voting_clf.fit(X_train, y_train)"
   ]
  },
  {
   "cell_type": "code",
   "execution_count": 44,
   "metadata": {},
   "outputs": [
    {
     "name": "stdout",
     "output_type": "stream",
     "text": [
      "LogisticRegression 0.7542857142857143\n",
      "RandomForestClassifier 0.7685714285714286\n",
      "SVC 0.7371428571428571\n",
      "VotingClassifier 0.7742857142857142\n"
     ]
    }
   ],
   "source": [
    "for clf in (log_clf, rnd_clf, svm_clf, voting_clf):\n",
    "    clf.fit(X_train, y_train)\n",
    "    y_pred = clf.predict(X_test)\n",
    "    print(clf.__class__.__name__, accuracy_score(y_test, y_pred))"
   ]
  },
  {
   "cell_type": "markdown",
   "metadata": {},
   "source": [
    "A final method for gaining some insight into the inner working of your Random Forests models is a so-called Partial Dependence Plot. The Partial Dependence Plot (PDP or PD plot) shows the marginal effect of a feature on the predicted outcome of a previously fit model. The prediction function is fixed at a few values of the chosen features and averaged over the other features. A partial dependence plot can show if the relationship between the target and a feature is linear, monotonic or more complex. \n",
    "\n",
    "In scikit-learn, PDPs are implemented and available for certain algorithms, but at this point (version 0.20.0) they are not yet implemented for Random Forests. Thankfully, there is an add-on package called **PDPbox** (https://pdpbox.readthedocs.io/en/latest/) which adds this functionality to Random Forests. The package is easy to install through pip."
   ]
  },
  {
   "cell_type": "code",
   "execution_count": 47,
   "metadata": {},
   "outputs": [],
   "source": [
    "#! pip install pdpbox"
   ]
  },
  {
   "cell_type": "markdown",
   "metadata": {},
   "source": [
    "While we encourage you to read the documentation for the package (and reading package documentation in general is a good habit to develop), the authors of the package have also written an excellent blog post on how to use it, showing examples on different algorithms from scikit-learn (the Random Forests example is towards the end of the blog post): https://briangriner.github.io/Partial_Dependence_Plots_presentation-BrianGriner-PrincetonPublicLibrary-4.14.18-updated-4.22.18.html (Old)\n",
    "\n",
    "\n",
    "Use this Link for updated APIs https://pdpbox.readthedocs.io/en/latest/api.html"
   ]
  },
  {
   "cell_type": "markdown",
   "metadata": {},
   "source": [
    "So, armed with this new knowledge, feel free to pick a few features, and make a couple of Partial Dependence Plots of your own!"
   ]
  },
  {
   "cell_type": "code",
   "execution_count": 48,
   "metadata": {},
   "outputs": [],
   "source": [
    "import pdpbox\n",
    "from pdpbox import pdp"
   ]
  },
  {
   "cell_type": "code",
   "execution_count": 49,
   "metadata": {},
   "outputs": [
    {
     "data": {
      "text/plain": [
       "(<Figure size 540x684 with 3 Axes>,\n",
       " {'title_ax': <matplotlib.axes._subplots.AxesSubplot at 0x7f9c8b189a00>,\n",
       "  'pdp_inter_ax': <matplotlib.axes._subplots.AxesSubplot at 0x7f9c8b1be040>})"
      ]
     },
     "execution_count": 49,
     "metadata": {},
     "output_type": "execute_result"
    },
    {
     "data": {
      "image/png": "[encoded data removed]",
      "text/plain": [
       "<Figure size 540x684 with 3 Axes>"
      ]
     },
     "metadata": {
      "needs_background": "light"
     },
     "output_type": "display_data"
    }
   ],
   "source": [
    "pdp_pedi_insul = pdp.pdp_interact(rnd_clf,Df,model_features=X_train.columns,features=['Amount','Age'])\n",
    "pdp.pdp_interact_plot(pdp_pedi_insul, ['Amount','Age'], plot_type='grid')"
   ]
  },
  {
   "cell_type": "code",
   "execution_count": 56,
   "metadata": {},
   "outputs": [],
   "source": [
    "# Bagging and Pasting\n",
    "\n",
    "from sklearn.ensemble import BaggingClassifier\n",
    "\n",
    "bag_clf = BaggingClassifier(best_clf, n_estimators=500, max_samples=100,bootstrap=True,n_jobs=-1)"
   ]
  },
  {
   "cell_type": "code",
   "execution_count": 57,
   "metadata": {},
   "outputs": [
    {
     "name": "stdout",
     "output_type": "stream",
     "text": [
      "BaggingClassifier 0.78\n"
     ]
    },
    {
     "data": {
      "text/plain": [
       "0.78"
      ]
     },
     "execution_count": 57,
     "metadata": {},
     "output_type": "execute_result"
    }
   ],
   "source": [
    "getCLassfierScore(X, Y, best_test_size, best_random_state,bag_clf)"
   ]
  },
  {
   "cell_type": "code",
   "execution_count": 66,
   "metadata": {},
   "outputs": [
    {
     "data": {
      "text/plain": [
       "0.806"
      ]
     },
     "execution_count": 66,
     "metadata": {},
     "output_type": "execute_result"
    }
   ],
   "source": [
    "bag_clf.fit(X_train, y_train)\n",
    "bag_clf.score(X, Y)"
   ]
  },
  {
   "cell_type": "code",
   "execution_count": 72,
   "metadata": {},
   "outputs": [
    {
     "data": {
      "text/plain": [
       "DecisionTreeClassifier(max_depth=7, random_state=258)"
      ]
     },
     "execution_count": 72,
     "metadata": {},
     "output_type": "execute_result"
    }
   ],
   "source": [
    "# Manual Boosting\n",
    "\n",
    "tree1 = best_clf\n",
    "tree1.fit(X_train,y_train)"
   ]
  },
  {
   "cell_type": "code",
   "execution_count": 73,
   "metadata": {},
   "outputs": [
    {
     "data": {
      "text/plain": [
       "DecisionTreeClassifier(max_depth=7, random_state=258)"
      ]
     },
     "execution_count": 73,
     "metadata": {},
     "output_type": "execute_result"
    }
   ],
   "source": [
    "Y2 = y_train - tree1.predict(X_train)\n",
    "tree2 = best_clf\n",
    "tree2.fit(X_train,Y2)"
   ]
  },
  {
   "cell_type": "code",
   "execution_count": 74,
   "metadata": {},
   "outputs": [
    {
     "data": {
      "text/plain": [
       "DecisionTreeClassifier(max_depth=7, random_state=258)"
      ]
     },
     "execution_count": 74,
     "metadata": {},
     "output_type": "execute_result"
    }
   ],
   "source": [
    "Y3 = Y2 - tree1.predict(X_train)\n",
    "tree3 = best_clf\n",
    "tree3.fit(X_train,Y3)"
   ]
  },
  {
   "cell_type": "code",
   "execution_count": 76,
   "metadata": {},
   "outputs": [],
   "source": [
    "y_pred = sum(tree.predict(X_test) for tree in (tree1,tree2,tree3))"
   ]
  },
  {
   "cell_type": "markdown",
   "metadata": {},
   "source": [
    "## Advanced Boosting-Based Algorithms"
   ]
  },
  {
   "cell_type": "markdown",
   "metadata": {},
   "source": [
    "As explained in the video lectures, the next generation of algorithms after Random Forests (that use Bagging, a.k.a. Bootstrap Aggregation) were developed using Boosting, and the first one of these were Gradient Boosted Machines, which are implemented in scikit-learn (http://scikit-learn.org/stable/modules/ensemble.html#gradient-tree-boosting)."
   ]
  },
  {
   "cell_type": "code",
   "execution_count": 87,
   "metadata": {},
   "outputs": [
    {
     "name": "stdout",
     "output_type": "stream",
     "text": [
      "GradientBoostingClassifier 0.7771428571428571\n"
     ]
    },
    {
     "data": {
      "text/plain": [
       "0.7771428571428571"
      ]
     },
     "execution_count": 87,
     "metadata": {},
     "output_type": "execute_result"
    }
   ],
   "source": [
    "# Gradient Boost\n",
    "\n",
    "from sklearn.ensemble import GradientBoostingClassifier\n",
    "\n",
    "gbrt = GradientBoostingClassifier(max_depth=7, n_estimators=30,learning_rate=1.0)\n",
    "\n",
    "getCLassfierScore(X, Y, best_test_size, best_random_state,gbrt)"
   ]
  },
  {
   "cell_type": "code",
   "execution_count": 86,
   "metadata": {},
   "outputs": [
    {
     "name": "stdout",
     "output_type": "stream",
     "text": [
      "best_n_estimators 27\n",
      "GradientBoostingClassifier 0.7542857142857143\n"
     ]
    },
    {
     "data": {
      "text/plain": [
       "0.7542857142857143"
      ]
     },
     "execution_count": 86,
     "metadata": {},
     "output_type": "execute_result"
    }
   ],
   "source": [
    "# Gradient boost with best number of estimators\n",
    "\n",
    "import numpy as np\n",
    "from sklearn.metrics import mean_squared_error\n",
    "\n",
    "errors = [mean_squared_error(y_test,y_pred) for y_pred in gbrt.staged_predict(X_test)]\n",
    "#print(\"Errors\", errors)\n",
    "best_n_estimators = np.argmin(errors) + 1\n",
    "print(\"best_n_estimators\", best_n_estimators)\n",
    "best_gbrt = GradientBoostingClassifier(max_depth=7,\n",
    "                                       n_estimators=best_n_estimators,\n",
    "                                       learning_rate=1.0)\n",
    "\n",
    "getCLassfierScore(X, Y, best_test_size, best_random_state, best_gbrt)"
   ]
  },
  {
   "cell_type": "markdown",
   "metadata": {},
   "source": [
    "Still, in recent years, a number of variations on GBMs have been developed by different research amd industry groups, all of them bringing improvements, both in speed, accuracy and functionality to the original Gradient Boosting algorithms.\n",
    "\n",
    "In no order of preference, these are:\n",
    "1. **XGBoost**: https://xgboost.readthedocs.io/en/latest/ ---\n",
    "2. **CatBoost**: https://tech.yandex.com/catboost/\n",
    "3. **LightGBM**: https://lightgbm.readthedocs.io/en/latest/"
   ]
  },
  {
   "cell_type": "markdown",
   "metadata": {},
   "source": [
    "If you're using the Anaconda distribution, these are all very easy to install:"
   ]
  },
  {
   "cell_type": "code",
   "execution_count": 54,
   "metadata": {},
   "outputs": [],
   "source": [
    "#! conda install -c anaconda py-xgboost"
   ]
  },
  {
   "cell_type": "code",
   "execution_count": 53,
   "metadata": {},
   "outputs": [],
   "source": [
    "#! conda install -c conda-forge catboost"
   ]
  },
  {
   "cell_type": "code",
   "execution_count": 91,
   "metadata": {},
   "outputs": [
    {
     "name": "stdout",
     "output_type": "stream",
     "text": [
      "0:\tlearn: 0.5881093\ttotal: 3.56ms\tremaining: 3.56ms\n",
      "1:\tlearn: 0.5671033\ttotal: 5.32ms\tremaining: 0us\n",
      "CatBoostClassifier 0.7457142857142857\n"
     ]
    },
    {
     "data": {
      "text/plain": [
       "0.7457142857142857"
      ]
     },
     "execution_count": 91,
     "metadata": {},
     "output_type": "execute_result"
    }
   ],
   "source": [
    "from catboost import CatBoostClassifier\n",
    "\n",
    "cat_clf = CatBoostClassifier(iterations=2,\n",
    "                           depth=2,\n",
    "                           learning_rate=1,\n",
    "                           loss_function='Logloss',\n",
    "                           verbose=True)\n",
    "\n",
    "getCLassfierScore(X, Y, best_test_size, best_random_state, cat_clf)"
   ]
  },
  {
   "cell_type": "code",
   "execution_count": null,
   "metadata": {},
   "outputs": [],
   "source": [
    "#! conda install -c conda-forge lightgbm"
   ]
  },
  {
   "cell_type": "code",
   "execution_count": 93,
   "metadata": {},
   "outputs": [
    {
     "name": "stdout",
     "output_type": "stream",
     "text": [
      "LGBMClassifier 0.7971428571428572\n"
     ]
    },
    {
     "data": {
      "text/plain": [
       "0.7971428571428572"
      ]
     },
     "execution_count": 93,
     "metadata": {},
     "output_type": "execute_result"
    }
   ],
   "source": [
    "from lightgbm import LGBMClassifier\n",
    "\n",
    "lgbm_clf = LGBMClassifier(max_depth=best_max_depth,\n",
    "                          n_estimators=best_estimator_count,\n",
    "                         learning_rate=0.1)\n",
    "\n",
    "getCLassfierScore(X, Y, best_test_size, best_random_state, lgbm_clf)"
   ]
  },
  {
   "cell_type": "markdown",
   "metadata": {},
   "source": [
    "Your task in this optional section of the mini project is to read the documentation of these three libraries, and apply all of them to the \"German Credit\" dataset, just like you did in the case of Decision Trees and Random Forests."
   ]
  },
  {
   "cell_type": "markdown",
   "metadata": {},
   "source": [
    "The final deliverable of this section should be a table (can be a pandas DataFrame) which shows the accuracy of all the five algorthms taught in this mini project in one place."
   ]
  },
  {
   "cell_type": "markdown",
   "metadata": {},
   "source": [
    "Happy modeling! :)"
   ]
  },
  {
   "cell_type": "code",
   "execution_count": 94,
   "metadata": {},
   "outputs": [
    {
     "name": "stdout",
     "output_type": "stream",
     "text": [
      "DecisionTreeClassifier 0.6885714285714286\n",
      "RandomForestClassifier 0.7685714285714286\n",
      "LogisticRegression 0.7542857142857143\n",
      "SVC 0.7371428571428571\n",
      "BaggingClassifier 0.7857142857142857\n",
      "GradientBoostingClassifier 0.74\n",
      "GradientBoostingClassifier 0.7114285714285714\n",
      "0:\tlearn: 0.5881093\ttotal: 1.12ms\tremaining: 1.12ms\n",
      "1:\tlearn: 0.5671033\ttotal: 2.13ms\tremaining: 0us\n",
      "CatBoostClassifier 0.7457142857142857\n",
      "LGBMClassifier 0.7971428571428572\n"
     ]
    }
   ],
   "source": [
    "dec_clf = DecisionTreeClassifier(max_depth=best_max_depth,\n",
    "                                random_state=best_random_state)\n",
    "\n",
    "classifiers = [dec_clf,rnd_clf,log_clf,svm_clf,bag_clf,gbrt,best_gbrt,cat_clf,lgbm_clf]\n",
    "\n",
    "for clf in classifiers:\n",
    "    getCLassfierScore(X, Y, best_test_size, best_random_state, clf)"
   ]
  },
  {
   "cell_type": "code",
   "execution_count": null,
   "metadata": {},
   "outputs": [],
   "source": []
  }
 ],
 "metadata": {
  "kernelspec": {
   "display_name": "Python 3",
   "language": "python",
   "name": "python3"
  },
  "language_info": {
   "codemirror_mode": {
    "name": "ipython",
    "version": 3
   },
   "file_extension": ".py",
   "mimetype": "text/x-python",
   "name": "python",
   "nbconvert_exporter": "python",
   "pygments_lexer": "ipython3",
   "version": "3.8.3"
  }
 },
 "nbformat": 4,
 "nbformat_minor": 2
}
