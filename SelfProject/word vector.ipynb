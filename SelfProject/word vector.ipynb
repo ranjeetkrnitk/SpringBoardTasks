{
 "cells": [
  {
   "cell_type": "code",
   "execution_count": 4,
   "metadata": {},
   "outputs": [],
   "source": [
    "import numpy as np\n",
    "import spacy\n",
    "from sklearn.decomposition import PCA"
   ]
  },
  {
   "cell_type": "code",
   "execution_count": 3,
   "metadata": {},
   "outputs": [],
   "source": [
    "#!pip install spacy"
   ]
  },
  {
   "cell_type": "code",
   "execution_count": 8,
   "metadata": {},
   "outputs": [],
   "source": [
    "nlp = spacy.load(\"en\")"
   ]
  },
  {
   "cell_type": "code",
   "execution_count": 7,
   "metadata": {},
   "outputs": [],
   "source": [
    "#!python -m spacy download en"
   ]
  },
  {
   "cell_type": "code",
   "execution_count": 9,
   "metadata": {},
   "outputs": [],
   "source": [
    "animals = \"dog cat hamster lion tiger elephant cheetah monkey gorilla antelope rabbit mouse rat zoo home pet fluffy wild domisticated\""
   ]
  },
  {
   "cell_type": "code",
   "execution_count": 10,
   "metadata": {},
   "outputs": [],
   "source": [
    "animal_tokens = nlp(animals)\n",
    "animal_vectors = np.vstack([word.vector for word in animal_tokens if word.has_vector])"
   ]
  },
  {
   "cell_type": "code",
   "execution_count": 12,
   "metadata": {},
   "outputs": [
    {
     "data": {
      "text/plain": [
       "(19, 96)"
      ]
     },
     "execution_count": 12,
     "metadata": {},
     "output_type": "execute_result"
    }
   ],
   "source": [
    "animal_vectors.shape"
   ]
  },
  {
   "cell_type": "code",
   "execution_count": 13,
   "metadata": {},
   "outputs": [],
   "source": [
    "pca = PCA(n_components = 2)\n",
    "animal_vecs_transformed = pca.fit_transform(animal_vectors)\n",
    "animal_vecs_transformed = np.c_[animals.split(), animal_vecs_transformed]"
   ]
  },
  {
   "cell_type": "code",
   "execution_count": 14,
   "metadata": {},
   "outputs": [
    {
     "data": {
      "text/plain": [
       "array([['dog', '-7.136556', '5.5970697'],\n",
       "       ['cat', '-3.4047675', '0.14338502'],\n",
       "       ['hamster', '-0.6386956', '9.532763'],\n",
       "       ['lion', '0.12967578', '2.9165962'],\n",
       "       ['tiger', '-8.891265', '3.3647795'],\n",
       "       ['elephant', '-3.1817436', '0.8480375'],\n",
       "       ['cheetah', '4.0301824', '0.14591104'],\n",
       "       ['monkey', '1.5012982', '2.201359'],\n",
       "       ['gorilla', '-0.36169952', '-3.7464015'],\n",
       "       ['antelope', '-1.4223918', '-3.59839'],\n",
       "       ['rabbit', '-2.4302251', '0.93867636'],\n",
       "       ['mouse', '-1.9498655', '-0.3525499'],\n",
       "       ['rat', '-5.5280824', '-5.659364'],\n",
       "       ['zoo', '-1.4988534', '-8.574344'],\n",
       "       ['home', '0.86106956', '-6.392555'],\n",
       "       ['pet', '2.1937377', '3.9493966'],\n",
       "       ['fluffy', '4.00699', '-4.4695754'],\n",
       "       ['wild', '9.190186', '0.98304373'],\n",
       "       ['domisticated', '14.531013', '2.172162']], dtype='<U32')"
      ]
     },
     "execution_count": 14,
     "metadata": {},
     "output_type": "execute_result"
    }
   ],
   "source": [
    "animal_vecs_transformed"
   ]
  },
  {
   "cell_type": "code",
   "execution_count": null,
   "metadata": {},
   "outputs": [],
   "source": []
  }
 ],
 "metadata": {
  "kernelspec": {
   "display_name": "Python 3",
   "language": "python",
   "name": "python3"
  },
  "language_info": {
   "codemirror_mode": {
    "name": "ipython",
    "version": 3
   },
   "file_extension": ".py",
   "mimetype": "text/x-python",
   "name": "python",
   "nbconvert_exporter": "python",
   "pygments_lexer": "ipython3",
   "version": "3.7.7"
  }
 },
 "nbformat": 4,
 "nbformat_minor": 4
}
