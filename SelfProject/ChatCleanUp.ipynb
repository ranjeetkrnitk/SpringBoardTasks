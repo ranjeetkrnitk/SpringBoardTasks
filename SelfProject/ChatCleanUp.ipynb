{
 "cells": [
  {
   "cell_type": "code",
   "execution_count": 1,
   "metadata": {},
   "outputs": [],
   "source": [
    "#fileName = 'WhatsAppSaddaAdda.txt' \n",
    "fileName = 'WingB5xxChat.txt'"
   ]
  },
  {
   "cell_type": "code",
   "execution_count": 2,
   "metadata": {},
   "outputs": [],
   "source": [
    "textfile = open(fileName, mode='r')"
   ]
  },
  {
   "cell_type": "code",
   "execution_count": 3,
   "metadata": {},
   "outputs": [],
   "source": [
    "Alltext = textfile.read()"
   ]
  },
  {
   "cell_type": "code",
   "execution_count": 4,
   "metadata": {},
   "outputs": [],
   "source": [
    "#lines = textfile.read().split('\\n')"
   ]
  },
  {
   "cell_type": "code",
   "execution_count": 5,
   "metadata": {},
   "outputs": [],
   "source": [
    "textfile.close()"
   ]
  },
  {
   "cell_type": "code",
   "execution_count": 6,
   "metadata": {},
   "outputs": [],
   "source": [
    "#Alltext"
   ]
  },
  {
   "cell_type": "code",
   "execution_count": 7,
   "metadata": {},
   "outputs": [],
   "source": [
    "import re\n",
    "\n",
    "dateReg = re.compile(r'\\d{2}\\/\\d{2}\\/\\d{2}[,]\\s\\d{2}:\\d{2}')"
   ]
  },
  {
   "cell_type": "code",
   "execution_count": 8,
   "metadata": {},
   "outputs": [
    {
     "data": {
      "text/plain": [
       "15"
      ]
     },
     "execution_count": 8,
     "metadata": {},
     "output_type": "execute_result"
    }
   ],
   "source": [
    "# Creating a CSV Output File With Column\n",
    "f = open(fileName.replace('txt', 'csv'), 'w+')\n",
    "f.write('time,user,text\\n')"
   ]
  },
  {
   "cell_type": "code",
   "execution_count": 9,
   "metadata": {},
   "outputs": [],
   "source": [
    "res = dateReg.split(Alltext)"
   ]
  },
  {
   "cell_type": "code",
   "execution_count": 10,
   "metadata": {},
   "outputs": [
    {
     "data": {
      "text/plain": [
       "3889"
      ]
     },
     "execution_count": 10,
     "metadata": {},
     "output_type": "execute_result"
    }
   ],
   "source": [
    "contents = res[1:]\n",
    "len(contents)"
   ]
  },
  {
   "cell_type": "code",
   "execution_count": 11,
   "metadata": {},
   "outputs": [],
   "source": [
    "dates = dateReg.findall(Alltext)\n",
    "dates = [date.replace(',','') for date in dates]"
   ]
  },
  {
   "cell_type": "code",
   "execution_count": 12,
   "metadata": {},
   "outputs": [
    {
     "name": "stdout",
     "output_type": "stream",
     "text": [
      "(1839, '06/08/19 06:57 *  - Angad left\\n')\n",
      "(1848, '07/08/19 22:42 *  - Manoj M added Angad\\n')\n",
      "(2123, '24/10/19 21:02 *  - D K removed Rohit Raj\\n')\n",
      "(2222, '26/10/19 08:20 *  - D K added Rohit Raj\\n')\n"
     ]
    }
   ],
   "source": [
    "for i,e in enumerate(contents):\n",
    "    e = e.replace('-', '').replace('\\n',' ').replace(',',' ').strip()\n",
    "    c = e.split(':')\n",
    "    #print(','.join([dates[i], c[0],c[1]]))\n",
    "    if len(c) > 1:\n",
    "        f.write(','.join([dates[i], c[0], c[1]]))\n",
    "        f.write('\\n')\n",
    "    else:\n",
    "        print((i,dates[i] + ' * '+ contents[i]))\n",
    "        #f.write(','.join([dates[i]]))\n"
   ]
  },
  {
   "cell_type": "code",
   "execution_count": 13,
   "metadata": {},
   "outputs": [],
   "source": [
    "f.close()"
   ]
  },
  {
   "cell_type": "code",
   "execution_count": null,
   "metadata": {},
   "outputs": [],
   "source": []
  },
  {
   "cell_type": "code",
   "execution_count": null,
   "metadata": {},
   "outputs": [],
   "source": []
  }
 ],
 "metadata": {
  "kernelspec": {
   "display_name": "Python 3",
   "language": "python",
   "name": "python3"
  },
  "language_info": {
   "codemirror_mode": {
    "name": "ipython",
    "version": 3
   },
   "file_extension": ".py",
   "mimetype": "text/x-python",
   "name": "python",
   "nbconvert_exporter": "python",
   "pygments_lexer": "ipython3",
   "version": "3.7.7"
  }
 },
 "nbformat": 4,
 "nbformat_minor": 4
}
