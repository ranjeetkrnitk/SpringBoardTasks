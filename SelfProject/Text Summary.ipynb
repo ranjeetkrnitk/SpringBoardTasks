{
 "cells": [
  {
   "cell_type": "code",
   "execution_count": 26,
   "metadata": {},
   "outputs": [
    {
     "name": "stdout",
     "output_type": "stream",
     "text": [
      "{\"status\":{\"code\":\"0\",\"msg\":\"OK\",\"credits\":\"41\",\"remaining_credits\":\"654703\"},\"summary\":\"Shah Rukh Khan (pronounced [ˈʃaːɦrʊx xaːn]; born 2 November 1965), also known by the initialism SRK, is an Indian actor, film producer, and television personality. Referred to in the media as the \\\"Baadshah of Bollywood\\\"(in reference to his 1999 film Baadshah), \\\"King of Bollywood\\\" and \\\"King Khan\\\", he has appeared in more than 80 Hindi films, and earned numerous accolades, including 14 Filmfare Awards. The Government of India has awarded him the Padma Shri, and the Government of France has awarded him the Ordre des Arts et des Lettres and the Legion of Honour. Khan has a significant following in Asia and the Indian diaspora worldwide. In terms of audience size and income, he has been described as one of the most successful film stars in the world. [...] Early in his career, Khan was recognised for portraying villainous roles in the films Baazigar (1993), Darr (1993), and Anjaam (1994). [...] Khan's philanthropic endeavours have provided health care and disaster relief, and he was honoured with UNESCO's Pyramide con Marni award in 2011 for his support of children's education and the World Economic Forum's Crystal Award in 2018 for his leadership in championing women's and children's rights in India. [...] b] According to Khan his paternal grandfather, Meer Jan Muhammad Khan, was an ethnic Pashtun (Pathan) from Afghanistan. [...] Although Khan was given the birth name Shahrukh Khan, he prefers his name to be written as Shah Rukh Khan, and is commonly referred to by the acronym SRK. [...] His appearances in these serials led critics to compare his look and acting style with those of the film actor Dilip Kumar, but Khan was not interested in film acting at the time, thinking that he was not good enough. Khan changed his decision to act in films in April 1991, citing it as a way to escape the grief of his mother's death. [...] The film and his performance met with critical praise, winning Khan his third Best Actor Award at Filmfare. [...] The film earned numerous accolades including 10 Filmfare Awards, with Best Actor for Khan, and a BAFTA Award for Best Film Not in the English Language. [...] In 2011, Khan starred alongside Arjun Rampal and Kareena Kapoor in Anubhav Sinha's superhero film Ra.One, his first work in this subgenre, as a favour to his children. [...] In 2018, Khan was honoured by the World Economic Forum with their annual Crystal Award for his leadership in championing children's and women's rights in India.\"}\n"
     ]
    }
   ],
   "source": [
    "import requests\n",
    "\n",
    "url = \"https://meaningcloud-summarization-v1.p.rapidapi.com/summarization-1.0\"\n",
    "\n",
    "querystring = {\"sentences\":\"15\",\"url\":\"https://en.wikipedia.org/wiki/Shah_Rukh_Khan\"}\n",
    "\n",
    "headers = {\n",
    "    'accept': \"application/json\",\n",
    "    'x-rapidapi-key': \"b5a5c1432amsh946450af946959ep15f8b8jsn30eb4a0b3403\",\n",
    "    'x-rapidapi-host': \"meaningcloud-summarization-v1.p.rapidapi.com\"\n",
    "    }\n",
    "\n",
    "response = requests.request(\"GET\", url, headers=headers, params=querystring)\n",
    "\n",
    "print(response.text)"
   ]
  },
  {
   "cell_type": "code",
   "execution_count": 2,
   "metadata": {},
   "outputs": [
    {
     "name": "stdout",
     "output_type": "stream",
     "text": [
      "{\"message\":\"You are not subscribed to this API.\"}\n"
     ]
    }
   ],
   "source": [
    "import requests\n",
    "\n",
    "url = \"https://meaningcloud-summarization-v1.p.rapidapi.com/summarization-1.0\"\n",
    "\n",
    "querystring = {\"sentences\":\"15\",\"url\":\"https://en.wikipedia.org/wiki/Shah_Rukh_Khan\"}\n",
    "\n",
    "headers = {\n",
    "    'accept': \"application/json\",\n",
    "    'x-rapidapi-key': \"b5a5c1432amsh946450af946959ep15f8b8jsn30eb4a0b3403\",\n",
    "    'x-rapidapi-host': \"meaningcloud-summarization-v1.p.rapidapi.com\"\n",
    "    }\n",
    "\n",
    "response = requests.request(\"GET\", url, headers=headers, params=querystring)\n",
    "\n",
    "print(response.text)"
   ]
  },
  {
   "cell_type": "code",
   "execution_count": 4,
   "metadata": {},
   "outputs": [
    {
     "name": "stdout",
     "output_type": "stream",
     "text": [
      "{\"status\":{\"code\":\"0\",\"msg\":\"OK\",\"credits\":\"41\",\"remaining_credits\":\"654773\"},\"summary\":\"Shah Rukh Khan (pronounced [ˈʃaːɦrʊx xaːn]; born 2 November 1965), also known by the initialism SRK, is an Indian actor, film producer, and television personality. Referred to in the media as the \\\"Baadshah of Bollywood\\\"(in reference to his 1999 film Baadshah), \\\"King of Bollywood\\\" and \\\"King Khan\\\", he has appeared in more than 80 Hindi films, and earned numerous accolades, including 14 Filmfare Awards. The Government of India has awarded him the Padma Shri, and the Government of France has awarded him the Ordre des Arts et des Lettres and the Legion of Honour. Khan has a significant following in Asia and the Indian diaspora worldwide. In terms of audience size and income, he has been described as one of the most successful film stars in the world. [...] Early in his career, Khan was recognised for portraying villainous roles in the films Baazigar (1993), Darr (1993), and Anjaam (1994). [...] Khan's philanthropic endeavours have provided health care and disaster relief, and he was honoured with UNESCO's Pyramide con Marni award in 2011 for his support of children's education and the World Economic Forum's Crystal Award in 2018 for his leadership in championing women's and children's rights in India. [...] b] According to Khan his paternal grandfather, Meer Jan Muhammad Khan, was an ethnic Pashtun (Pathan) from Afghanistan. [...] Although Khan was given the birth name Shahrukh Khan, he prefers his name to be written as Shah Rukh Khan, and is commonly referred to by the acronym SRK. [...] His appearances in these serials led critics to compare his look and acting style with those of the film actor Dilip Kumar, but Khan was not interested in film acting at the time, thinking that he was not good enough. Khan changed his decision to act in films in April 1991, citing it as a way to escape the grief of his mother's death. [...] His performance in Baazigar, which would be his first of many appearances with actress Kajol, won Khan his first Filmfare Award for Best Actor. [...] The film and his performance met with critical praise, winning Khan his third Best Actor Award at Filmfare. [...] The film was not well received, but India Today lauded Khan for his energetic performance. [...] Khan resumed shooting in June 2003, but he reduced his workload and the number of film roles he accepted annually. [...] The film earned numerous accolades including 10 Filmfare Awards, with Best Actor for Khan, and a BAFTA Award for Best Film Not in the English Language. [...] Faring well in both India and abroad, Khan garnered another Filmfare Award for Best Actor for his performance, which Rajeev Masand of CNN-IBN considers to have been \\\"without any of his typical trappings, without any of his trademark quirks\\\", portraying Kabir Khan \\\"like a real flesh-and-blood human being\\\".Filmfare included his performance in their 2010 issue of the \\\"Top 80 Iconic Performances\\\". [...] In 2011, Khan starred alongside Arjun Rampal and Kareena Kapoor in Anubhav Sinha's superhero film Ra.One, his first work in this subgenre, as a favour to his children. [...] MCA revoked the ban in 2015 and in 2016, Mumbai Police informed that no 'cognisable offence' was made out against Khan and they had come to the conclusion that Shah Rukh Khan was not drunk and did not use abusive language before minors at the Wankhede Stadium in 2012. [...] In 2018, Khan was honoured by the World Economic Forum with their annual Crystal Award for his leadership in championing children's and women's rights in India.\"}\n"
     ]
    }
   ],
   "source": [
    "import requests\n",
    "\n",
    "url = \"https://meaningcloud-summarization-v1.p.rapidapi.com/summarization-1.0\"\n",
    "\n",
    "querystring = {\"sentences\":\"20\",\"url\":\"https://en.wikipedia.org/wiki/Shah_Rukh_Khan\"}\n",
    "\n",
    "headers = {\n",
    "    'accept': \"application/json\",\n",
    "    'x-rapidapi-key': \"b5a5c1432amsh946450af946959ep15f8b8jsn30eb4a0b3403\",\n",
    "    'x-rapidapi-host': \"meaningcloud-summarization-v1.p.rapidapi.com\"\n",
    "    }\n",
    "\n",
    "response = requests.request(\"GET\", url, headers=headers, params=querystring)\n",
    "\n",
    "print(response.text)"
   ]
  },
  {
   "cell_type": "code",
   "execution_count": 22,
   "metadata": {},
   "outputs": [
    {
     "name": "stdout",
     "output_type": "stream",
     "text": [
      "When Christopher Columbus arrived at Hispaniola during his first transatlantic voyage in the\n",
      " year A.D. 1492, the island had already been settled by Native Americans for about 5,000 years.\n",
      " The occupants in Columbus’s time were a group of Arawak Indians called Tainos who lived by\n",
      " farming, were organized into five chiefdoms, and numbered around half a million (the estimates\n",
      " range from 100,000 to 2,000,000). Columbus initially found them peaceful and friendly, until\n",
      " he and his Spaniards began mistreating them. Unfortunately for the Tainos, they had gold, which\n",
      " the Spanish coveted but didn’t want to go to the work of mining themselves. Hence the\n",
      " conquerors divided up the island and its Indian population among individual Spaniards, who\n",
      " put the Indians to work as virtual slaves, accidentally infected them with Eurasian diseases and\n",
      " murdered them. By the year 1519, 27 years after Columbus’s arrival, that original population\n",
      " of half a million had been reduced to about 11,000, most of whom died that year of smallpox\n",
      " to bring the population down to 3,000.\n",
      "170\n"
     ]
    }
   ],
   "source": [
    "_str = \"<p>When Christopher Columbus arrived at Hispaniola during his first transatlantic voyage in the<br> year A.D. 1492, the island had already been settled by Native Americans for about 5,000 years.<br> The occupants in Columbus’s time were a group of Arawak Indians called Tainos who lived by<br> farming, were organized into five chiefdoms, and numbered around half a million (the estimates<br> range from 100,000 to 2,000,000). Columbus initially found them peaceful and friendly, until<br> he and his Spaniards began mistreating them. Unfortunately for the Tainos, they had gold, which<br> the Spanish coveted but didn’t want to go to the work of mining themselves. Hence the<br> conquerors divided up the island and its Indian population among individual Spaniards, who<br> put the Indians to work as virtual slaves, accidentally infected them with Eurasian diseases and<br> murdered them. By the year 1519, 27 years after Columbus’s arrival, that original population<br> of half a million had been reduced to about 11,000, most of whom died that year of smallpox<br> to bring the population down to 3,000.</p>\"\n",
    "testString = _str\n",
    "_str = _str.replace(\"<p>\", \"\").replace(\"<b>\",\"\").replace(\"<br>\",\"\\n\").replace(\"</p>\",\"\")\n",
    "print(_str)\n",
    "print(len(_str.split()))"
   ]
  },
  {
   "cell_type": "code",
   "execution_count": 32,
   "metadata": {},
   "outputs": [
    {
     "name": "stdout",
     "output_type": "stream",
     "text": [
      "{\"status\":{\"code\":\"0\",\"msg\":\"OK\",\"credits\":\"1\",\"remaining_credits\":\"654686\"},\"summary\":\"When Christopher Columbus arrived at Hispaniola during his first transatlantic voyage in the year A.D. 1492, the island had already been settled by Native Americans for about 5,000 years. Unfortunately for the Tainos, they had gold, which the Spanish coveted but didn’t want to go to the work of mining themselves. [...] By the year 1519, 27 years after Columbus’s arrival, that original population of half a million had been reduced to about 11,000, most of whom died that year of smallpox to bring the population down to 3,000.\"}\n"
     ]
    }
   ],
   "source": [
    "import requests\n",
    "\n",
    "url = \"https://meaningcloud-summarization-v1.p.rapidapi.com/summarization-1.0\"\n",
    "\n",
    "querystring = {\"sentences\":\"3\",\"txt\":testString}\n",
    "headers = {\n",
    "    'accept': \"application/json\",\n",
    "    'x-rapidapi-key': \"b5a5c1432amsh946450af946959ep15f8b8jsn30eb4a0b3403\",\n",
    "    'x-rapidapi-host': \"meaningcloud-summarization-v1.p.rapidapi.com\"\n",
    "    }\n",
    "\n",
    "response = requests.request(\"GET\", url, headers=headers, params=querystring)\n",
    "\n",
    "print(response.text)"
   ]
  },
  {
   "cell_type": "code",
   "execution_count": 33,
   "metadata": {},
   "outputs": [],
   "source": [
    "_resString = \"When Christopher Columbus arrived at Hispaniola during his first transatlantic voyage in the year A.D. 1492, the island had already been settled by Native Americans for about 5,000 years. The occupants in Columbus’s time were a group of Arawak Indians called Tainos who lived by farming, were organized into five chiefdoms, and numbered around half a million (the estimates range from 100,000 to 2,000,000). Columbus initially found them peaceful and friendly, until he and his Spaniards began mistreating them. Unfortunately for the Tainos, they had gold, which the Spanish coveted but didn’t want to go to the work of mining themselves. [...] By the year 1519, 27 years after Columbus’s arrival, that original population of half a million had been reduced to about 11,000, most of whom died that year of smallpox to bring the population down to 3,000.\""
   ]
  },
  {
   "cell_type": "code",
   "execution_count": 31,
   "metadata": {},
   "outputs": [
    {
     "data": {
      "text/plain": [
       "139"
      ]
     },
     "execution_count": 31,
     "metadata": {},
     "output_type": "execute_result"
    }
   ],
   "source": [
    "len(_resString.split())"
   ]
  },
  {
   "cell_type": "code",
   "execution_count": null,
   "metadata": {},
   "outputs": [],
   "source": []
  }
 ],
 "metadata": {
  "kernelspec": {
   "display_name": "Python 3",
   "language": "python",
   "name": "python3"
  },
  "language_info": {
   "codemirror_mode": {
    "name": "ipython",
    "version": 3
   },
   "file_extension": ".py",
   "mimetype": "text/x-python",
   "name": "python",
   "nbconvert_exporter": "python",
   "pygments_lexer": "ipython3",
   "version": "3.8.3"
  }
 },
 "nbformat": 4,
 "nbformat_minor": 4
}
