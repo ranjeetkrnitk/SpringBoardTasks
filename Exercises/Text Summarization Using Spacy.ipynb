{
 "cells": [
  {
   "cell_type": "code",
   "execution_count": null,
   "metadata": {},
   "outputs": [],
   "source": []
  },
  {
   "cell_type": "code",
   "execution_count": null,
   "metadata": {},
   "outputs": [],
   "source": []
  },
  {
   "cell_type": "markdown",
   "metadata": {},
   "source": [
    "- Text Cleaning\n",
    "- Sentence Tokenization\n",
    "- Word Tokenization\n",
    "- Word-Frequency Table\n",
    "- Summarization"
   ]
  },
  {
   "cell_type": "code",
   "execution_count": 6,
   "metadata": {},
   "outputs": [],
   "source": [
    "text = '''The Trinamool Congress has written to Facebook CEO Mark Zuckerberg raising the issue of alleged bias of the social media giant towards the BJP, and claimed that there is enough evidence in public domain to substantiate this charge.\n",
    "\n",
    "Party MP Derek O’Brien, who has written the letter to Mr. Zuckerberg also makes a reference to an earlier meeting between the two, where some of these concerns were raised.\n",
    "\n",
    "Sources in the party said that Mr. O’Brien met Zuckerberg in October 2015 in Delhi.\n",
    "\n",
    "“We, the All India Trinamool Congress (AITC), India’s second-largest opposition party, have had serious concerns about Facebook’s role during the 2014 and 2019 general elections in India,” Mr. O’Brien wrote in the letter accessed by PTI.\n",
    "\n",
    "\n",
    "“With the elections in the Indian state of West Bengal just months away, your company’s recent blocking of Facebook pages and accounts in Bengal also points to the link between Facebook and the BJP. There is enough material now in the public domain, including internal memos of senior Facebook management, to substantiate the bias,” he wrote.'''"
   ]
  },
  {
   "cell_type": "code",
   "execution_count": 53,
   "metadata": {},
   "outputs": [],
   "source": [
    "text = '''The scene is total chaos: a woman and all her purse's contents in middair as she trips over a child's toy, a man hastily trying to gather his spilled laundry, a screaming child weaving through the crowd. Somewhere, in the midst of it all, is the person you've been looking for: wearing a red and white striped shirt, black rimmed glasses and a lopsided cap. There he is! There's Waldo.\n",
    "\n",
    "Many of us have fond memories of Waldo. But while he looms large in our imagination, our childhood searches for Waldo typically stayed pretty small – Waldo is a tiny person in the middle of lots of other tiny things.\n",
    "\n",
    "And that's what this post is about: wee things. Specifically, the wee things that we see as part of graphics, maps, visualizations (wee things in space) as well as the wee things we experience as part of interactions, navigation, and usability (wee things in time). This means everything from sequences of small graphics that help us make comparisons, to tiny locator maps that help orient us within a larger graphic, to navigation icons that give hints about how we should make our way around a page.\n",
    "\n",
    "Waldo, and the eternal search for him, can actually tell us quite a lot about design. In many ways, Waldo is a great example of what NOT to do when using wee things in your own work. So with Waldo as our anti-hero, let's take a look at how people read and interpret small visual forms, why tiny details can be hugely useful, and what principles we can apply to make all these little images and moments work for us as designers.\n",
    "\n",
    "Wee Things In Space\n",
    "Probably the most immediate definition of wee things are things that are physically small: little things on a page. We see these all the time in news graphics, and we're probably familiar with some of their forms: small multiples, sparklines, icons, etc. I'll go into more details about all of these.\n",
    "\n",
    "These visual forms work because they serve as extensions of our mind – they are cognitive tools that complement our own mental abilities. They do this by recording information for us to make use of later, lending a hand to our (pretty terrible) working memories, helping us search and discover and recognize. We'll take a look at one task in particular they are great at: letting us make comparisons.\n",
    "\n",
    "Make Comparisons\n",
    "\n",
    "Tiny sequences of graphics, also known as small multiples, are great ways to help our brains compare. They are so successful because we don’t have to rely on working memory – every bit of information is in front of us at the same time. This means that we can easily see changes, patterns or differences.\n",
    "\n",
    "Here are a bunch of examples of small multiples in the wild – maps and planets, first lady hair styles and telegraph signals, food trucks, fashion color trends and dressing appropriately for different climates, the distribution of deaths in the 1870’s and last but not least, Bill Murray’s hats.'''"
   ]
  },
  {
   "cell_type": "code",
   "execution_count": 54,
   "metadata": {},
   "outputs": [
    {
     "data": {
      "text/plain": [
       "\"The scene is total chaos: a woman and all her purse's contents in middair as she trips over a child's toy, a man hastily trying to gather his spilled laundry, a screaming child weaving through the crowd. Somewhere, in the midst of it all, is the person you've been looking for: wearing a red and white striped shirt, black rimmed glasses and a lopsided cap. There he is! There's Waldo.\\n\\nMany of us have fond memories of Waldo. But while he looms large in our imagination, our childhood searches for Waldo typically stayed pretty small – Waldo is a tiny person in the middle of lots of other tiny things.\\n\\nAnd that's what this post is about: wee things. Specifically, the wee things that we see as part of graphics, maps, visualizations (wee things in space) as well as the wee things we experience as part of interactions, navigation, and usability (wee things in time). This means everything from sequences of small graphics that help us make comparisons, to tiny locator maps that help orient us within a larger graphic, to navigation icons that give hints about how we should make our way around a page.\\n\\nWaldo, and the eternal search for him, can actually tell us quite a lot about design. In many ways, Waldo is a great example of what NOT to do when using wee things in your own work. So with Waldo as our anti-hero, let's take a look at how people read and interpret small visual forms, why tiny details can be hugely useful, and what principles we can apply to make all these little images and moments work for us as designers.\\n\\nWee Things In Space\\nProbably the most immediate definition of wee things are things that are physically small: little things on a page. We see these all the time in news graphics, and we're probably familiar with some of their forms: small multiples, sparklines, icons, etc. I'll go into more details about all of these.\\n\\nThese visual forms work because they serve as extensions of our mind – they are cognitive tools that complement our own mental abilities. They do this by recording information for us to make use of later, lending a hand to our (pretty terrible) working memories, helping us search and discover and recognize. We'll take a look at one task in particular they are great at: letting us make comparisons.\\n\\nMake Comparisons\\n\\nTiny sequences of graphics, also known as small multiples, are great ways to help our brains compare. They are so successful because we don’t have to rely on working memory – every bit of information is in front of us at the same time. This means that we can easily see changes, patterns or differences.\\n\\nHere are a bunch of examples of small multiples in the wild – maps and planets, first lady hair styles and telegraph signals, food trucks, fashion color trends and dressing appropriately for different climates, the distribution of deaths in the 1870’s and last but not least, Bill Murray’s hats.\""
      ]
     },
     "execution_count": 54,
     "metadata": {},
     "output_type": "execute_result"
    }
   ],
   "source": [
    "text"
   ]
  },
  {
   "cell_type": "code",
   "execution_count": 55,
   "metadata": {},
   "outputs": [],
   "source": [
    "import spacy\n",
    "from spacy.lang.en.stop_words import STOP_WORDS\n",
    "from string import punctuation"
   ]
  },
  {
   "cell_type": "code",
   "execution_count": 56,
   "metadata": {},
   "outputs": [],
   "source": [
    "stopwords = list(STOP_WORDS)"
   ]
  },
  {
   "cell_type": "code",
   "execution_count": 57,
   "metadata": {},
   "outputs": [
    {
     "name": "stdout",
     "output_type": "stream",
     "text": [
      "['then', 'not', 'neither', 'becomes', 'whatever', 'whenever', 'must', 'already', 'both', 'thence', \"'d\", 'almost', 'anything', \"'re\", 'thereafter', '‘ve', 'am', 'thereby', 'somehow', 'doing', 'anyway', 'before', 'none', 'are', 'get', 'become', 'had', 'former', 'just', 'which', 'somewhere', 'meanwhile', 'same', 'namely', 'mostly', 'show', 'now', 'as', 'sometimes', 'thru', 'nine', '‘d', 'anyhow', 'done', 'others', 'myself', 'she', 'keep', 'except', 'after', 'hereupon', 'sixty', 'nowhere', 'off', 'ourselves', \"'ve\", 'move', 'once', 'while', 'here', 'front', \"n't\", 'hundred', 'was', 'there', '’re', 'whereas', 'what', 'upon', 'behind', 'indeed', 'via', 'unless', 'too', 'beside', 'each', 'say', 'until', 'side', 'whole', 'well', 'really', 'together', 'under', 'enough', '‘ll', 'everything', 'its', 'five', 'a', 'herself', 'put', 'hereby', 'everywhere', 'one', '‘re', 'forty', 'but', 'another', 'beforehand', 'above', 'rather', 'since', 'seemed', 'twelve', 'i', 'four', 'such', 'someone', 'every', '’m', 'nothing', 'all', 'name', '’s', 'out', 'into', 'part', 'any', 'n’t', 'further', 'more', 'never', 'than', \"'ll\", 'elsewhere', \"'m\", 'cannot', 'regarding', 'something', 'some', 'her', 'back', 'three', 'eight', 'yours', \"'s\", 'between', '‘m', 'when', 'seeming', 'your', 'on', 'do', 'hers', 'because', 'ever', 'wherein', 'became', 'them', 'it', 'six', 'along', 'thus', 'why', 'either', 'hereafter', 'see', 'should', 'in', 'wherever', 'used', 'can', 'those', 'whereby', 'nevertheless', 'using', 'where', 'otherwise', 'among', 'no', 'ten', '‘s', 'top', 'ca', 'everyone', 'twenty', 'these', 'yourselves', 'be', 'else', 'they', 'made', 'herein', 'often', 'other', 'bottom', 'empty', 'full', 'onto', 'whom', 'many', 'being', 'beyond', 'he', 'could', 'least', 'make', 'several', 'does', 'how', 'whereafter', 'mine', 'whence', 'me', 'this', 'therein', 'at', 'of', 'did', 'latter', 'to', 'up', 'moreover', 'take', 'itself', 'or', 'quite', 'two', 'per', 'fifteen', 're', 'yourself', 'due', 'amount', 'go', 'thereupon', 'seems', 'would', 'has', 'will', 'nobody', 'becoming', 'besides', 'n‘t', 'across', 'less', 'nor', 'formerly', 'first', 'may', 'an', 'our', 'over', '’d', 'ours', 'toward', 'own', 'by', 'noone', 'about', 'throughout', 'yet', 'seem', 'hence', 'last', 'whether', 'been', 'though', 'few', 'next', 'you', 'although', 'is', 'whoever', '’ll', 'please', 'various', 'down', 'him', 'us', 'from', 'alone', 'against', 'amongst', 'third', 'have', 'so', 'who', 'sometime', 'even', 'within', 'my', 'serious', 'most', 'we', 'still', 'perhaps', 'whereupon', 'anywhere', 'without', 'and', 'during', 'for', 'also', 'eleven', 'fifty', 'the', 'give', 'below', '’ve', 'with', 'through', 'only', 'were', 'his', 'therefore', 'themselves', 'latterly', 'call', 'their', 'always', 'again', 'around', 'however', 'might', 'that', 'whither', 'much', 'himself', 'whose', 'very', 'anyone', 'afterwards', 'towards', 'if']\n"
     ]
    }
   ],
   "source": [
    "print(stopwords)"
   ]
  },
  {
   "cell_type": "code",
   "execution_count": 58,
   "metadata": {},
   "outputs": [],
   "source": [
    "nlp = spacy.load('en_core_web_sm')"
   ]
  },
  {
   "cell_type": "code",
   "execution_count": 59,
   "metadata": {},
   "outputs": [],
   "source": [
    "doc = nlp(text)"
   ]
  },
  {
   "cell_type": "code",
   "execution_count": 60,
   "metadata": {},
   "outputs": [
    {
     "name": "stdout",
     "output_type": "stream",
     "text": [
      "['The', 'scene', 'is', 'total', 'chaos', ':', 'a', 'woman', 'and', 'all', 'her', 'purse', \"'s\", 'contents', 'in', 'middair', 'as', 'she', 'trips', 'over', 'a', 'child', \"'s\", 'toy', ',', 'a', 'man', 'hastily', 'trying', 'to', 'gather', 'his', 'spilled', 'laundry', ',', 'a', 'screaming', 'child', 'weaving', 'through', 'the', 'crowd', '.', 'Somewhere', ',', 'in', 'the', 'midst', 'of', 'it', 'all', ',', 'is', 'the', 'person', 'you', \"'ve\", 'been', 'looking', 'for', ':', 'wearing', 'a', 'red', 'and', 'white', 'striped', 'shirt', ',', 'black', 'rimmed', 'glasses', 'and', 'a', 'lopsided', 'cap', '.', 'There', 'he', 'is', '!', 'There', \"'s\", 'Waldo', '.', '\\n\\n', 'Many', 'of', 'us', 'have', 'fond', 'memories', 'of', 'Waldo', '.', 'But', 'while', 'he', 'looms', 'large', 'in', 'our', 'imagination', ',', 'our', 'childhood', 'searches', 'for', 'Waldo', 'typically', 'stayed', 'pretty', 'small', '–', 'Waldo', 'is', 'a', 'tiny', 'person', 'in', 'the', 'middle', 'of', 'lots', 'of', 'other', 'tiny', 'things', '.', '\\n\\n', 'And', 'that', \"'s\", 'what', 'this', 'post', 'is', 'about', ':', 'wee', 'things', '.', 'Specifically', ',', 'the', 'wee', 'things', 'that', 'we', 'see', 'as', 'part', 'of', 'graphics', ',', 'maps', ',', 'visualizations', '(', 'wee', 'things', 'in', 'space', ')', 'as', 'well', 'as', 'the', 'wee', 'things', 'we', 'experience', 'as', 'part', 'of', 'interactions', ',', 'navigation', ',', 'and', 'usability', '(', 'wee', 'things', 'in', 'time', ')', '.', 'This', 'means', 'everything', 'from', 'sequences', 'of', 'small', 'graphics', 'that', 'help', 'us', 'make', 'comparisons', ',', 'to', 'tiny', 'locator', 'maps', 'that', 'help', 'orient', 'us', 'within', 'a', 'larger', 'graphic', ',', 'to', 'navigation', 'icons', 'that', 'give', 'hints', 'about', 'how', 'we', 'should', 'make', 'our', 'way', 'around', 'a', 'page', '.', '\\n\\n', 'Waldo', ',', 'and', 'the', 'eternal', 'search', 'for', 'him', ',', 'can', 'actually', 'tell', 'us', 'quite', 'a', 'lot', 'about', 'design', '.', 'In', 'many', 'ways', ',', 'Waldo', 'is', 'a', 'great', 'example', 'of', 'what', 'NOT', 'to', 'do', 'when', 'using', 'wee', 'things', 'in', 'your', 'own', 'work', '.', 'So', 'with', 'Waldo', 'as', 'our', 'anti', '-', 'hero', ',', 'let', \"'s\", 'take', 'a', 'look', 'at', 'how', 'people', 'read', 'and', 'interpret', 'small', 'visual', 'forms', ',', 'why', 'tiny', 'details', 'can', 'be', 'hugely', 'useful', ',', 'and', 'what', 'principles', 'we', 'can', 'apply', 'to', 'make', 'all', 'these', 'little', 'images', 'and', 'moments', 'work', 'for', 'us', 'as', 'designers', '.', '\\n\\n', 'Wee', 'Things', 'In', 'Space', '\\n', 'Probably', 'the', 'most', 'immediate', 'definition', 'of', 'wee', 'things', 'are', 'things', 'that', 'are', 'physically', 'small', ':', 'little', 'things', 'on', 'a', 'page', '.', 'We', 'see', 'these', 'all', 'the', 'time', 'in', 'news', 'graphics', ',', 'and', 'we', \"'re\", 'probably', 'familiar', 'with', 'some', 'of', 'their', 'forms', ':', 'small', 'multiples', ',', 'sparklines', ',', 'icons', ',', 'etc', '.', 'I', \"'ll\", 'go', 'into', 'more', 'details', 'about', 'all', 'of', 'these', '.', '\\n\\n', 'These', 'visual', 'forms', 'work', 'because', 'they', 'serve', 'as', 'extensions', 'of', 'our', 'mind', '–', 'they', 'are', 'cognitive', 'tools', 'that', 'complement', 'our', 'own', 'mental', 'abilities', '.', 'They', 'do', 'this', 'by', 'recording', 'information', 'for', 'us', 'to', 'make', 'use', 'of', 'later', ',', 'lending', 'a', 'hand', 'to', 'our', '(', 'pretty', 'terrible', ')', 'working', 'memories', ',', 'helping', 'us', 'search', 'and', 'discover', 'and', 'recognize', '.', 'We', \"'ll\", 'take', 'a', 'look', 'at', 'one', 'task', 'in', 'particular', 'they', 'are', 'great', 'at', ':', 'letting', 'us', 'make', 'comparisons', '.', '\\n\\n', 'Make', 'Comparisons', '\\n\\n', 'Tiny', 'sequences', 'of', 'graphics', ',', 'also', 'known', 'as', 'small', 'multiples', ',', 'are', 'great', 'ways', 'to', 'help', 'our', 'brains', 'compare', '.', 'They', 'are', 'so', 'successful', 'because', 'we', 'do', 'n’t', 'have', 'to', 'rely', 'on', 'working', 'memory', '–', 'every', 'bit', 'of', 'information', 'is', 'in', 'front', 'of', 'us', 'at', 'the', 'same', 'time', '.', 'This', 'means', 'that', 'we', 'can', 'easily', 'see', 'changes', ',', 'patterns', 'or', 'differences', '.', '\\n\\n', 'Here', 'are', 'a', 'bunch', 'of', 'examples', 'of', 'small', 'multiples', 'in', 'the', 'wild', '–', 'maps', 'and', 'planets', ',', 'first', 'lady', 'hair', 'styles', 'and', 'telegraph', 'signals', ',', 'food', 'trucks', ',', 'fashion', 'color', 'trends', 'and', 'dressing', 'appropriately', 'for', 'different', 'climates', ',', 'the', 'distribution', 'of', 'deaths', 'in', 'the', '1870', '’s', 'and', 'last', 'but', 'not', 'least', ',', 'Bill', 'Murray', '’s', 'hats', '.']\n"
     ]
    }
   ],
   "source": [
    "tokens = [token.text for token in doc]\n",
    "print(tokens)"
   ]
  },
  {
   "cell_type": "code",
   "execution_count": 61,
   "metadata": {},
   "outputs": [
    {
     "data": {
      "text/plain": [
       "'!\"#$%&\\'()*+,-./:;<=>?@[\\\\]^_`{|}~\\n\\n\\n'"
      ]
     },
     "execution_count": 61,
     "metadata": {},
     "output_type": "execute_result"
    }
   ],
   "source": [
    "punctuation = punctuation + '\\n\\n\\n'\n",
    "punctuation"
   ]
  },
  {
   "cell_type": "code",
   "execution_count": 62,
   "metadata": {},
   "outputs": [],
   "source": [
    "word_frequencies = {}\n",
    "for word in doc:\n",
    "    if word.text.lower() not in stopwords:\n",
    "        if word.text.lower() not in punctuation:\n",
    "            if word.text not in word_frequencies.keys():\n",
    "                word_frequencies[word.text] = 1\n",
    "            else:\n",
    "                word_frequencies[word.text] += 1"
   ]
  },
  {
   "cell_type": "code",
   "execution_count": 63,
   "metadata": {},
   "outputs": [
    {
     "name": "stdout",
     "output_type": "stream",
     "text": [
      "{'scene': 1, 'total': 1, 'chaos': 1, 'woman': 1, 'purse': 1, 'contents': 1, 'middair': 1, 'trips': 1, 'child': 2, 'toy': 1, 'man': 1, 'hastily': 1, 'trying': 1, 'gather': 1, 'spilled': 1, 'laundry': 1, 'screaming': 1, 'weaving': 1, 'crowd': 1, 'midst': 1, 'person': 2, 'looking': 1, 'wearing': 1, 'red': 1, 'white': 1, 'striped': 1, 'shirt': 1, 'black': 1, 'rimmed': 1, 'glasses': 1, 'lopsided': 1, 'cap': 1, 'Waldo': 7, 'fond': 1, 'memories': 2, 'looms': 1, 'large': 1, 'imagination': 1, 'childhood': 1, 'searches': 1, 'typically': 1, 'stayed': 1, 'pretty': 2, 'small': 7, '–': 4, 'tiny': 4, 'middle': 1, 'lots': 1, 'things': 10, 'post': 1, 'wee': 7, 'Specifically': 1, 'graphics': 4, 'maps': 3, 'visualizations': 1, 'space': 1, 'experience': 1, 'interactions': 1, 'navigation': 2, 'usability': 1, 'time': 3, 'means': 2, 'sequences': 2, 'help': 3, 'comparisons': 2, 'locator': 1, 'orient': 1, 'larger': 1, 'graphic': 1, 'icons': 2, 'hints': 1, 'way': 1, 'page': 2, 'eternal': 1, 'search': 2, 'actually': 1, 'tell': 1, 'lot': 1, 'design': 1, 'ways': 2, 'great': 3, 'example': 1, 'work': 3, 'anti': 1, 'hero': 1, 'let': 1, 'look': 2, 'people': 1, 'read': 1, 'interpret': 1, 'visual': 2, 'forms': 3, 'details': 2, 'hugely': 1, 'useful': 1, 'principles': 1, 'apply': 1, 'little': 2, 'images': 1, 'moments': 1, 'designers': 1, 'Wee': 1, 'Things': 1, 'Space': 1, 'Probably': 1, 'immediate': 1, 'definition': 1, 'physically': 1, 'news': 1, 'probably': 1, 'familiar': 1, 'multiples': 3, 'sparklines': 1, 'etc': 1, 'serve': 1, 'extensions': 1, 'mind': 1, 'cognitive': 1, 'tools': 1, 'complement': 1, 'mental': 1, 'abilities': 1, 'recording': 1, 'information': 2, 'use': 1, 'later': 1, 'lending': 1, 'hand': 1, 'terrible': 1, 'working': 2, 'helping': 1, 'discover': 1, 'recognize': 1, 'task': 1, 'particular': 1, 'letting': 1, 'Comparisons': 1, 'Tiny': 1, 'known': 1, 'brains': 1, 'compare': 1, 'successful': 1, 'rely': 1, 'memory': 1, 'bit': 1, 'easily': 1, 'changes': 1, 'patterns': 1, 'differences': 1, 'bunch': 1, 'examples': 1, 'wild': 1, 'planets': 1, 'lady': 1, 'hair': 1, 'styles': 1, 'telegraph': 1, 'signals': 1, 'food': 1, 'trucks': 1, 'fashion': 1, 'color': 1, 'trends': 1, 'dressing': 1, 'appropriately': 1, 'different': 1, 'climates': 1, 'distribution': 1, 'deaths': 1, '1870': 1, 'Bill': 1, 'Murray': 1, 'hats': 1}\n"
     ]
    }
   ],
   "source": [
    "print(word_frequencies)"
   ]
  },
  {
   "cell_type": "code",
   "execution_count": 64,
   "metadata": {},
   "outputs": [],
   "source": [
    "max_frequency = max(word_frequencies.values())"
   ]
  },
  {
   "cell_type": "code",
   "execution_count": 65,
   "metadata": {},
   "outputs": [
    {
     "data": {
      "text/plain": [
       "10"
      ]
     },
     "execution_count": 65,
     "metadata": {},
     "output_type": "execute_result"
    }
   ],
   "source": [
    "max_frequency"
   ]
  },
  {
   "cell_type": "code",
   "execution_count": 66,
   "metadata": {},
   "outputs": [],
   "source": [
    "for word in word_frequencies.keys():\n",
    "    word_frequencies[word] = word_frequencies[word]/max_frequency"
   ]
  },
  {
   "cell_type": "code",
   "execution_count": 67,
   "metadata": {},
   "outputs": [
    {
     "name": "stdout",
     "output_type": "stream",
     "text": [
      "{'scene': 0.1, 'total': 0.1, 'chaos': 0.1, 'woman': 0.1, 'purse': 0.1, 'contents': 0.1, 'middair': 0.1, 'trips': 0.1, 'child': 0.2, 'toy': 0.1, 'man': 0.1, 'hastily': 0.1, 'trying': 0.1, 'gather': 0.1, 'spilled': 0.1, 'laundry': 0.1, 'screaming': 0.1, 'weaving': 0.1, 'crowd': 0.1, 'midst': 0.1, 'person': 0.2, 'looking': 0.1, 'wearing': 0.1, 'red': 0.1, 'white': 0.1, 'striped': 0.1, 'shirt': 0.1, 'black': 0.1, 'rimmed': 0.1, 'glasses': 0.1, 'lopsided': 0.1, 'cap': 0.1, 'Waldo': 0.7, 'fond': 0.1, 'memories': 0.2, 'looms': 0.1, 'large': 0.1, 'imagination': 0.1, 'childhood': 0.1, 'searches': 0.1, 'typically': 0.1, 'stayed': 0.1, 'pretty': 0.2, 'small': 0.7, '–': 0.4, 'tiny': 0.4, 'middle': 0.1, 'lots': 0.1, 'things': 1.0, 'post': 0.1, 'wee': 0.7, 'Specifically': 0.1, 'graphics': 0.4, 'maps': 0.3, 'visualizations': 0.1, 'space': 0.1, 'experience': 0.1, 'interactions': 0.1, 'navigation': 0.2, 'usability': 0.1, 'time': 0.3, 'means': 0.2, 'sequences': 0.2, 'help': 0.3, 'comparisons': 0.2, 'locator': 0.1, 'orient': 0.1, 'larger': 0.1, 'graphic': 0.1, 'icons': 0.2, 'hints': 0.1, 'way': 0.1, 'page': 0.2, 'eternal': 0.1, 'search': 0.2, 'actually': 0.1, 'tell': 0.1, 'lot': 0.1, 'design': 0.1, 'ways': 0.2, 'great': 0.3, 'example': 0.1, 'work': 0.3, 'anti': 0.1, 'hero': 0.1, 'let': 0.1, 'look': 0.2, 'people': 0.1, 'read': 0.1, 'interpret': 0.1, 'visual': 0.2, 'forms': 0.3, 'details': 0.2, 'hugely': 0.1, 'useful': 0.1, 'principles': 0.1, 'apply': 0.1, 'little': 0.2, 'images': 0.1, 'moments': 0.1, 'designers': 0.1, 'Wee': 0.1, 'Things': 0.1, 'Space': 0.1, 'Probably': 0.1, 'immediate': 0.1, 'definition': 0.1, 'physically': 0.1, 'news': 0.1, 'probably': 0.1, 'familiar': 0.1, 'multiples': 0.3, 'sparklines': 0.1, 'etc': 0.1, 'serve': 0.1, 'extensions': 0.1, 'mind': 0.1, 'cognitive': 0.1, 'tools': 0.1, 'complement': 0.1, 'mental': 0.1, 'abilities': 0.1, 'recording': 0.1, 'information': 0.2, 'use': 0.1, 'later': 0.1, 'lending': 0.1, 'hand': 0.1, 'terrible': 0.1, 'working': 0.2, 'helping': 0.1, 'discover': 0.1, 'recognize': 0.1, 'task': 0.1, 'particular': 0.1, 'letting': 0.1, 'Comparisons': 0.1, 'Tiny': 0.1, 'known': 0.1, 'brains': 0.1, 'compare': 0.1, 'successful': 0.1, 'rely': 0.1, 'memory': 0.1, 'bit': 0.1, 'easily': 0.1, 'changes': 0.1, 'patterns': 0.1, 'differences': 0.1, 'bunch': 0.1, 'examples': 0.1, 'wild': 0.1, 'planets': 0.1, 'lady': 0.1, 'hair': 0.1, 'styles': 0.1, 'telegraph': 0.1, 'signals': 0.1, 'food': 0.1, 'trucks': 0.1, 'fashion': 0.1, 'color': 0.1, 'trends': 0.1, 'dressing': 0.1, 'appropriately': 0.1, 'different': 0.1, 'climates': 0.1, 'distribution': 0.1, 'deaths': 0.1, '1870': 0.1, 'Bill': 0.1, 'Murray': 0.1, 'hats': 0.1}\n"
     ]
    }
   ],
   "source": [
    "print(word_frequencies)"
   ]
  },
  {
   "cell_type": "code",
   "execution_count": 68,
   "metadata": {},
   "outputs": [
    {
     "name": "stdout",
     "output_type": "stream",
     "text": [
      "[The scene is total chaos: a woman and all her purse's contents in middair as she trips over a child's toy, a man hastily trying to gather his spilled laundry, a screaming child weaving through the crowd., Somewhere, in the midst of it all, is the person you've been looking for: wearing a red and white striped shirt, black rimmed glasses and a lopsided cap., There he is!, There's Waldo.\n",
      "\n",
      ", Many of us have fond memories of Waldo., But while he looms large in our imagination, our childhood searches for Waldo typically stayed pretty small – Waldo is a tiny person in the middle of lots of other tiny things.\n",
      "\n",
      ", And that's what this post is about: wee things., Specifically, the wee things that we see as part of graphics, maps, visualizations (wee things in space) as well as the wee things we experience as part of interactions, navigation, and usability (wee things in time)., This means everything from sequences of small graphics that help us make comparisons, to tiny locator maps that help orient us within a larger graphic, to navigation icons that give hints about how we should make our way around a page.\n",
      "\n",
      ", Waldo, and the eternal search for him, can actually tell us quite a lot about design., In many ways, Waldo is a great example of what NOT to do when using wee things in your own work., So with Waldo as our anti-hero, let's take a look at how people read and interpret small visual forms, why tiny details can be hugely useful, and what principles we can apply to make all these little images and moments work for us as designers.\n",
      "\n",
      ", Wee Things, In Space\n",
      ", Probably the most immediate definition of wee things are things that are physically small: little things on a page., We see these all the time in news graphics, and we're probably familiar with some of their forms: small multiples, sparklines, icons, etc., I'll go into more details about all of these.\n",
      "\n",
      ", These visual forms work because they serve as extensions of our mind, – they are cognitive tools that complement our own mental abilities., They do this by recording information for us to make use of later, lending a hand to our (pretty terrible) working memories, helping us search and discover and recognize., We'll take a look at one task in particular, they are great at: letting us make comparisons.\n",
      "\n",
      ", Make Comparisons\n",
      "\n",
      "Tiny sequences of graphics, also known as small multiples, are great ways to help our brains compare., They are so successful because we don’t have to rely on working memory – every bit of information is in front of us at the same time., This means that we can easily see changes, patterns or differences.\n",
      "\n",
      ", Here are a bunch of examples of small multiples in the wild – maps and planets, first lady hair styles and telegraph signals, food trucks, fashion color trends and dressing appropriately for different climates, the distribution of deaths in the 1870’s and last but not least, Bill Murray’s hats.]\n"
     ]
    }
   ],
   "source": [
    "sentence_tokens = [sent for sent in doc.sents]\n",
    "print(sentence_tokens)"
   ]
  },
  {
   "cell_type": "code",
   "execution_count": 69,
   "metadata": {},
   "outputs": [],
   "source": [
    "sentence_scores = {}\n",
    "for sent in sentence_tokens:\n",
    "    for word in sent:\n",
    "        if word.text.lower() in word_frequencies.keys():\n",
    "            if sent not in sentence_scores.keys():\n",
    "                sentence_scores[sent] = word_frequencies[word.text.lower()]\n",
    "            else:\n",
    "                sentence_scores[sent] += word_frequencies[word.text.lower()]"
   ]
  },
  {
   "cell_type": "code",
   "execution_count": 70,
   "metadata": {},
   "outputs": [
    {
     "data": {
      "text/plain": [
       "{The scene is total chaos: a woman and all her purse's contents in middair as she trips over a child's toy, a man hastily trying to gather his spilled laundry, a screaming child weaving through the crowd.: 2.200000000000001,\n",
       " Somewhere, in the midst of it all, is the person you've been looking for: wearing a red and white striped shirt, black rimmed glasses and a lopsided cap.: 1.4000000000000001,\n",
       " Many of us have fond memories of Waldo.: 0.30000000000000004,\n",
       " But while he looms large in our imagination, our childhood searches for Waldo typically stayed pretty small – Waldo is a tiny person in the middle of lots of other tiny things.\n",
       " : 4.2,\n",
       " And that's what this post is about: wee things.: 1.7999999999999998,\n",
       " Specifically, the wee things that we see as part of graphics, maps, visualizations (wee things in space) as well as the wee things we experience as part of interactions, navigation, and usability (wee things in time).: 8.5,\n",
       " This means everything from sequences of small graphics that help us make comparisons, to tiny locator maps that help orient us within a larger graphic, to navigation icons that give hints about how we should make our way around a page.\n",
       " : 4.2,\n",
       " Waldo, and the eternal search for him, can actually tell us quite a lot about design.: 0.7,\n",
       " In many ways, Waldo is a great example of what NOT to do when using wee things in your own work.: 2.5999999999999996,\n",
       " So with Waldo as our anti-hero, let's take a look at how people read and interpret small visual forms, why tiny details can be hugely useful, and what principles we can apply to make all these little images and moments work for us as designers.\n",
       " : 3.8000000000000007,\n",
       " Wee Things: 1.7,\n",
       " In Space: 0.1,\n",
       " Probably the most immediate definition of wee things are things that are physically small: little things on a page.: 5.2,\n",
       " We see these all the time in news graphics, and we're probably familiar with some of their forms: small multiples, sparklines, icons, etc.: 2.7,\n",
       " I'll go into more details about all of these.\n",
       " : 0.2,\n",
       " These visual forms work because they serve as extensions of our mind: 1.1,\n",
       " – they are cognitive tools that complement our own mental abilities.: 0.8999999999999999,\n",
       " They do this by recording information for us to make use of later, lending a hand to our (pretty terrible) working memories, helping us search and discover and recognize.: 1.9000000000000001,\n",
       " We'll take a look at one task in particular: 0.4,\n",
       " they are great at: letting us make comparisons.\n",
       " : 0.6000000000000001,\n",
       " Make Comparisons\n",
       " \n",
       " Tiny sequences of graphics, also known as small multiples, are great ways to help our brains compare.: 3.3,\n",
       " They are so successful because we don’t have to rely on working memory – every bit of information is in front of us at the same time.: 1.5,\n",
       " This means that we can easily see changes, patterns or differences.\n",
       " : 0.6,\n",
       " Here are a bunch of examples of small multiples in the wild – maps and planets, first lady hair styles and telegraph signals, food trucks, fashion color trends and dressing appropriately for different climates, the distribution of deaths in the 1870’s and last but not least, Bill Murray’s hats.: 3.9000000000000017}"
      ]
     },
     "execution_count": 70,
     "metadata": {},
     "output_type": "execute_result"
    }
   ],
   "source": [
    "sentence_scores"
   ]
  },
  {
   "cell_type": "code",
   "execution_count": 71,
   "metadata": {},
   "outputs": [],
   "source": [
    "from heapq import nlargest"
   ]
  },
  {
   "cell_type": "code",
   "execution_count": 72,
   "metadata": {},
   "outputs": [],
   "source": [
    "select_length = int(len(sentence_tokens)*0.3)"
   ]
  },
  {
   "cell_type": "code",
   "execution_count": 73,
   "metadata": {},
   "outputs": [
    {
     "data": {
      "text/plain": [
       "7"
      ]
     },
     "execution_count": 73,
     "metadata": {},
     "output_type": "execute_result"
    }
   ],
   "source": [
    "select_length"
   ]
  },
  {
   "cell_type": "code",
   "execution_count": 74,
   "metadata": {},
   "outputs": [],
   "source": [
    "summary = nlargest(select_length, sentence_scores, key = sentence_scores.get)"
   ]
  },
  {
   "cell_type": "code",
   "execution_count": 75,
   "metadata": {},
   "outputs": [
    {
     "data": {
      "text/plain": [
       "[Specifically, the wee things that we see as part of graphics, maps, visualizations (wee things in space) as well as the wee things we experience as part of interactions, navigation, and usability (wee things in time).,\n",
       " Probably the most immediate definition of wee things are things that are physically small: little things on a page.,\n",
       " But while he looms large in our imagination, our childhood searches for Waldo typically stayed pretty small – Waldo is a tiny person in the middle of lots of other tiny things.\n",
       " ,\n",
       " This means everything from sequences of small graphics that help us make comparisons, to tiny locator maps that help orient us within a larger graphic, to navigation icons that give hints about how we should make our way around a page.\n",
       " ,\n",
       " Here are a bunch of examples of small multiples in the wild – maps and planets, first lady hair styles and telegraph signals, food trucks, fashion color trends and dressing appropriately for different climates, the distribution of deaths in the 1870’s and last but not least, Bill Murray’s hats.,\n",
       " So with Waldo as our anti-hero, let's take a look at how people read and interpret small visual forms, why tiny details can be hugely useful, and what principles we can apply to make all these little images and moments work for us as designers.\n",
       " ,\n",
       " Make Comparisons\n",
       " \n",
       " Tiny sequences of graphics, also known as small multiples, are great ways to help our brains compare.]"
      ]
     },
     "execution_count": 75,
     "metadata": {},
     "output_type": "execute_result"
    }
   ],
   "source": [
    "summary"
   ]
  },
  {
   "cell_type": "code",
   "execution_count": null,
   "metadata": {},
   "outputs": [],
   "source": []
  }
 ],
 "metadata": {
  "kernelspec": {
   "display_name": "Python 3",
   "language": "python",
   "name": "python3"
  },
  "language_info": {
   "codemirror_mode": {
    "name": "ipython",
    "version": 3
   },
   "file_extension": ".py",
   "mimetype": "text/x-python",
   "name": "python",
   "nbconvert_exporter": "python",
   "pygments_lexer": "ipython3",
   "version": "3.7.7"
  }
 },
 "nbformat": 4,
 "nbformat_minor": 4
}
