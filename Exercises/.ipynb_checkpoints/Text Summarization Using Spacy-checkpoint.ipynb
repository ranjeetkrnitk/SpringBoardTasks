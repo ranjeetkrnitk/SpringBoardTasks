{
 "cells": [
  {
   "cell_type": "code",
   "execution_count": null,
   "metadata": {},
   "outputs": [],
   "source": []
  },
  {
   "cell_type": "code",
   "execution_count": null,
   "metadata": {},
   "outputs": [],
   "source": []
  },
  {
   "cell_type": "markdown",
   "metadata": {},
   "source": [
    "- Text Cleaning\n",
    "- Sentence Tokenization\n",
    "- Word Tokenization\n",
    "- Word-Frequency Table\n",
    "- Summarization"
   ]
  },
  {
   "cell_type": "code",
   "execution_count": 6,
   "metadata": {},
   "outputs": [],
   "source": [
    "text = '''The Trinamool Congress has written to Facebook CEO Mark Zuckerberg raising the issue of alleged bias of the social media giant towards the BJP, and claimed that there is enough evidence in public domain to substantiate this charge.\n",
    "\n",
    "Party MP Derek O’Brien, who has written the letter to Mr. Zuckerberg also makes a reference to an earlier meeting between the two, where some of these concerns were raised.\n",
    "\n",
    "Sources in the party said that Mr. O’Brien met Zuckerberg in October 2015 in Delhi.\n",
    "\n",
    "“We, the All India Trinamool Congress (AITC), India’s second-largest opposition party, have had serious concerns about Facebook’s role during the 2014 and 2019 general elections in India,” Mr. O’Brien wrote in the letter accessed by PTI.\n",
    "\n",
    "\n",
    "“With the elections in the Indian state of West Bengal just months away, your company’s recent blocking of Facebook pages and accounts in Bengal also points to the link between Facebook and the BJP. There is enough material now in the public domain, including internal memos of senior Facebook management, to substantiate the bias,” he wrote.'''"
   ]
  },
  {
   "cell_type": "code",
   "execution_count": 7,
   "metadata": {},
   "outputs": [
    {
     "data": {
      "text/plain": [
       "'The Trinamool Congress has written to Facebook CEO Mark Zuckerberg raising the issue of alleged bias of the social media giant towards the BJP, and claimed that there is enough evidence in public domain to substantiate this charge.\\n\\nParty MP Derek O’Brien, who has written the letter to Mr. Zuckerberg also makes a reference to an earlier meeting between the two, where some of these concerns were raised.\\n\\nSources in the party said that Mr. O’Brien met Zuckerberg in October 2015 in Delhi.\\n\\n“We, the All India Trinamool Congress (AITC), India’s second-largest opposition party, have had serious concerns about Facebook’s role during the 2014 and 2019 general elections in India,” Mr. O’Brien wrote in the letter accessed by PTI.\\n\\n\\n“With the elections in the Indian state of West Bengal just months away, your company’s recent blocking of Facebook pages and accounts in Bengal also points to the link between Facebook and the BJP. There is enough material now in the public domain, including internal memos of senior Facebook management, to substantiate the bias,” he wrote.'"
      ]
     },
     "execution_count": 7,
     "metadata": {},
     "output_type": "execute_result"
    }
   ],
   "source": [
    "text"
   ]
  },
  {
   "cell_type": "code",
   "execution_count": 12,
   "metadata": {},
   "outputs": [],
   "source": [
    "import spacy\n",
    "from spacy.lang.en.stop_words import STOP_WORDS\n",
    "from string import punctuation"
   ]
  },
  {
   "cell_type": "code",
   "execution_count": null,
   "metadata": {},
   "outputs": [],
   "source": []
  }
 ],
 "metadata": {
  "kernelspec": {
   "display_name": "Python 3",
   "language": "python",
   "name": "python3"
  },
  "language_info": {
   "codemirror_mode": {
    "name": "ipython",
    "version": 3
   },
   "file_extension": ".py",
   "mimetype": "text/x-python",
   "name": "python",
   "nbconvert_exporter": "python",
   "pygments_lexer": "ipython3",
   "version": "3.7.7"
  }
 },
 "nbformat": 4,
 "nbformat_minor": 4
}
