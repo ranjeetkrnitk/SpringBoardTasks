{
 "cells": [
  {
   "cell_type": "code",
   "execution_count": 17,
   "metadata": {},
   "outputs": [],
   "source": [
    "base = 'https://www.thehindu.com/news/'\n",
    "regions = ['national','international']\n",
    "states = ['andhra-pradesh', 'karnataka', 'kerala', 'tamil-nadu', 'telangana', 'other-states']\n",
    "cities = ['bangalore', 'chennai', 'Coimbatore', 'Delhi', 'Hyderabad', 'Kochi', 'kolkata']\n",
    "pages = range(0,14)\n",
    "start_urls = [base+region+'/?page='+str(p)  for region in regions for p in pages]\n",
    "start_urls.extend([base+'/national/'+state+'/?page='+str(p)  for state in states for p in pages])\n",
    "start_urls.extend([base+'/cities/'+city+'/?page='+str(p)  for city in cities for p in pages])\n",
    "#start_urls"
   ]
  },
  {
   "cell_type": "code",
   "execution_count": 18,
   "metadata": {},
   "outputs": [],
   "source": [
    "reg = [url.split('/')[-2] for url in start_urls]\n",
    "#reg"
   ]
  },
  {
   "cell_type": "code",
   "execution_count": 19,
   "metadata": {},
   "outputs": [],
   "source": [
    "cities = ['bangalore', 'chennai', 'Coimbatore', 'Delhi', 'Hyderabad', 'Kochi', 'kolkata']\n",
    "#[base+'/cities/'+city+'/?page='+str(p)  for city in cities for p in pages]"
   ]
  },
  {
   "cell_type": "code",
   "execution_count": 20,
   "metadata": {},
   "outputs": [
    {
     "data": {
      "text/plain": [
       "'national'"
      ]
     },
     "execution_count": 20,
     "metadata": {},
     "output_type": "execute_result"
    }
   ],
   "source": [
    "url.split('/')[-2]"
   ]
  },
  {
   "cell_type": "code",
   "execution_count": 21,
   "metadata": {},
   "outputs": [
    {
     "data": {
      "text/html": [
       "<div>\n",
       "<style scoped>\n",
       "    .dataframe tbody tr th:only-of-type {\n",
       "        vertical-align: middle;\n",
       "    }\n",
       "\n",
       "    .dataframe tbody tr th {\n",
       "        vertical-align: top;\n",
       "    }\n",
       "\n",
       "    .dataframe thead th {\n",
       "        text-align: right;\n",
       "    }\n",
       "</style>\n",
       "<table border=\"1\" class=\"dataframe\">\n",
       "  <thead>\n",
       "    <tr style=\"text-align: right;\">\n",
       "      <th></th>\n",
       "      <th>extractedDate</th>\n",
       "      <th>headline</th>\n",
       "      <th>link</th>\n",
       "      <th>page</th>\n",
       "      <th>region</th>\n",
       "      <th>source</th>\n",
       "    </tr>\n",
       "  </thead>\n",
       "  <tbody>\n",
       "    <tr>\n",
       "      <th>0</th>\n",
       "      <td>2020-08-12</td>\n",
       "      <td>\\n Ramvilas Paswan asks States to do doorstep ...</td>\n",
       "      <td>https://www.thehindu.com/news/national/ramvila...</td>\n",
       "      <td>0</td>\n",
       "      <td>national</td>\n",
       "      <td>TheHindu</td>\n",
       "    </tr>\n",
       "    <tr>\n",
       "      <th>1</th>\n",
       "      <td>2020-08-12</td>\n",
       "      <td>\\n Ramvilas Paswan asks States to do doorstep ...</td>\n",
       "      <td>https://www.thehindu.com/news/national/ramvila...</td>\n",
       "      <td>8</td>\n",
       "      <td>national</td>\n",
       "      <td>TheHindu</td>\n",
       "    </tr>\n",
       "    <tr>\n",
       "      <th>2</th>\n",
       "      <td>2020-08-12</td>\n",
       "      <td>\\n Rationalisation: Textile Ministry to close ...</td>\n",
       "      <td>https://www.thehindu.com/news/national/rationa...</td>\n",
       "      <td>0</td>\n",
       "      <td>national</td>\n",
       "      <td>TheHindu</td>\n",
       "    </tr>\n",
       "    <tr>\n",
       "      <th>3</th>\n",
       "      <td>2020-08-12</td>\n",
       "      <td>\\nCoronavirus | Expert panel to discuss issues...</td>\n",
       "      <td>https://www.thehindu.com/news/national/coronav...</td>\n",
       "      <td>0</td>\n",
       "      <td>national</td>\n",
       "      <td>TheHindu</td>\n",
       "    </tr>\n",
       "    <tr>\n",
       "      <th>4</th>\n",
       "      <td>2020-08-12</td>\n",
       "      <td>\\nDGCA suspends wide-body flights for Calicut ...</td>\n",
       "      <td>https://www.thehindu.com/news/national/dgca-su...</td>\n",
       "      <td>0</td>\n",
       "      <td>national</td>\n",
       "      <td>TheHindu</td>\n",
       "    </tr>\n",
       "  </tbody>\n",
       "</table>\n",
       "</div>"
      ],
      "text/plain": [
       "  extractedDate                                           headline  \\\n",
       "0    2020-08-12  \\n Ramvilas Paswan asks States to do doorstep ...   \n",
       "1    2020-08-12  \\n Ramvilas Paswan asks States to do doorstep ...   \n",
       "2    2020-08-12  \\n Rationalisation: Textile Ministry to close ...   \n",
       "3    2020-08-12  \\nCoronavirus | Expert panel to discuss issues...   \n",
       "4    2020-08-12  \\nDGCA suspends wide-body flights for Calicut ...   \n",
       "\n",
       "                                                link  page    region    source  \n",
       "0  https://www.thehindu.com/news/national/ramvila...     0  national  TheHindu  \n",
       "1  https://www.thehindu.com/news/national/ramvila...     8  national  TheHindu  \n",
       "2  https://www.thehindu.com/news/national/rationa...     0  national  TheHindu  \n",
       "3  https://www.thehindu.com/news/national/coronav...     0  national  TheHindu  \n",
       "4  https://www.thehindu.com/news/national/dgca-su...     0  national  TheHindu  "
      ]
     },
     "execution_count": 21,
     "metadata": {},
     "output_type": "execute_result"
    }
   ],
   "source": [
    "import pandas as pd\n",
    "articles_df = pd.read_json('dump1208.json')\n",
    "articles_df.head()"
   ]
  },
  {
   "cell_type": "code",
   "execution_count": 33,
   "metadata": {},
   "outputs": [
    {
     "data": {
      "text/plain": [
       "array(['national', 'international', 'andhra-pradesh', 'karnataka',\n",
       "       'kerala', 'tamil-nadu', 'telangana', 'other-states', 'bangalore',\n",
       "       'chennai', 'Coimbatore', 'Delhi', 'Hyderabad', 'Kochi', 'kolkata'],\n",
       "      dtype=object)"
      ]
     },
     "execution_count": 33,
     "metadata": {},
     "output_type": "execute_result"
    }
   ],
   "source": [
    "articles_df.region.unique()"
   ]
  },
  {
   "cell_type": "code",
   "execution_count": 35,
   "metadata": {},
   "outputs": [],
   "source": [
    "df = pd.read_json (r'articledump1208.json')\n",
    "df.to_csv (r'articledump1208.csv', index = None)"
   ]
  },
  {
   "cell_type": "code",
   "execution_count": 45,
   "metadata": {},
   "outputs": [],
   "source": [
    "h_df = pd.read_json('../webscrapy/dump1308hash.json')"
   ]
  },
  {
   "cell_type": "code",
   "execution_count": 53,
   "metadata": {},
   "outputs": [
    {
     "data": {
      "text/plain": [
       "9132"
      ]
     },
     "execution_count": 53,
     "metadata": {},
     "output_type": "execute_result"
    }
   ],
   "source": [
    "h_df.hash.unique().size"
   ]
  },
  {
   "cell_type": "code",
   "execution_count": 54,
   "metadata": {},
   "outputs": [
    {
     "data": {
      "text/plain": [
       "9132"
      ]
     },
     "execution_count": 54,
     "metadata": {},
     "output_type": "execute_result"
    }
   ],
   "source": [
    "h_df.link.unique().size"
   ]
  },
  {
   "cell_type": "code",
   "execution_count": 56,
   "metadata": {},
   "outputs": [],
   "source": [
    "ah_df = pd.read_json('../webscrapy/articledump1308hash.json')"
   ]
  },
  {
   "cell_type": "code",
   "execution_count": 57,
   "metadata": {},
   "outputs": [
    {
     "data": {
      "text/plain": [
       "9021"
      ]
     },
     "execution_count": 57,
     "metadata": {},
     "output_type": "execute_result"
    }
   ],
   "source": [
    "ah_df.hash.unique().size"
   ]
  },
  {
   "cell_type": "code",
   "execution_count": 59,
   "metadata": {},
   "outputs": [
    {
     "data": {
      "text/plain": [
       "9133"
      ]
     },
     "execution_count": 59,
     "metadata": {},
     "output_type": "execute_result"
    }
   ],
   "source": [
    "ah_df.url.unique().size"
   ]
  },
  {
   "cell_type": "code",
   "execution_count": null,
   "metadata": {},
   "outputs": [],
   "source": []
  }
 ],
 "metadata": {
  "kernelspec": {
   "display_name": "Python 3",
   "language": "python",
   "name": "python3"
  },
  "language_info": {
   "codemirror_mode": {
    "name": "ipython",
    "version": 3
   },
   "file_extension": ".py",
   "mimetype": "text/x-python",
   "name": "python",
   "nbconvert_exporter": "python",
   "pygments_lexer": "ipython3",
   "version": "3.7.7"
  }
 },
 "nbformat": 4,
 "nbformat_minor": 4
}
