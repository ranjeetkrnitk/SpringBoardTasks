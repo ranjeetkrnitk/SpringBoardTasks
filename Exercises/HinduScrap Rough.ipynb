{
 "cells": [
  {
   "cell_type": "code",
   "execution_count": 17,
   "metadata": {},
   "outputs": [],
   "source": [
    "base = 'https://www.thehindu.com/news/'\n",
    "regions = ['national','international']\n",
    "states = ['andhra-pradesh', 'karnataka', 'kerala', 'tamil-nadu', 'telangana', 'other-states']\n",
    "cities = ['bangalore', 'chennai', 'Coimbatore', 'Delhi', 'Hyderabad', 'Kochi', 'kolkata']\n",
    "pages = range(0,14)\n",
    "start_urls = [base+region+'/?page='+str(p)  for region in regions for p in pages]\n",
    "start_urls.extend([base+'/national/'+state+'/?page='+str(p)  for state in states for p in pages])\n",
    "start_urls.extend([base+'/cities/'+city+'/?page='+str(p)  for city in cities for p in pages])\n",
    "#start_urls"
   ]
  },
  {
   "cell_type": "code",
   "execution_count": 18,
   "metadata": {},
   "outputs": [],
   "source": [
    "reg = [url.split('/')[-2] for url in start_urls]\n",
    "#reg"
   ]
  },
  {
   "cell_type": "code",
   "execution_count": 19,
   "metadata": {},
   "outputs": [],
   "source": [
    "cities = ['bangalore', 'chennai', 'Coimbatore', 'Delhi', 'Hyderabad', 'Kochi', 'kolkata']\n",
    "#[base+'/cities/'+city+'/?page='+str(p)  for city in cities for p in pages]"
   ]
  },
  {
   "cell_type": "code",
   "execution_count": 20,
   "metadata": {},
   "outputs": [
    {
     "data": {
      "text/plain": [
       "'national'"
      ]
     },
     "execution_count": 20,
     "metadata": {},
     "output_type": "execute_result"
    }
   ],
   "source": [
    "url.split('/')[-2]"
   ]
  },
  {
   "cell_type": "code",
   "execution_count": 21,
   "metadata": {},
   "outputs": [
    {
     "data": {
      "text/html": [
       "<div>\n",
       "<style scoped>\n",
       "    .dataframe tbody tr th:only-of-type {\n",
       "        vertical-align: middle;\n",
       "    }\n",
       "\n",
       "    .dataframe tbody tr th {\n",
       "        vertical-align: top;\n",
       "    }\n",
       "\n",
       "    .dataframe thead th {\n",
       "        text-align: right;\n",
       "    }\n",
       "</style>\n",
       "<table border=\"1\" class=\"dataframe\">\n",
       "  <thead>\n",
       "    <tr style=\"text-align: right;\">\n",
       "      <th></th>\n",
       "      <th>extractedDate</th>\n",
       "      <th>headline</th>\n",
       "      <th>link</th>\n",
       "      <th>page</th>\n",
       "      <th>region</th>\n",
       "      <th>source</th>\n",
       "    </tr>\n",
       "  </thead>\n",
       "  <tbody>\n",
       "    <tr>\n",
       "      <th>0</th>\n",
       "      <td>2020-08-12</td>\n",
       "      <td>\\n Ramvilas Paswan asks States to do doorstep ...</td>\n",
       "      <td>https://www.thehindu.com/news/national/ramvila...</td>\n",
       "      <td>0</td>\n",
       "      <td>national</td>\n",
       "      <td>TheHindu</td>\n",
       "    </tr>\n",
       "    <tr>\n",
       "      <th>1</th>\n",
       "      <td>2020-08-12</td>\n",
       "      <td>\\n Ramvilas Paswan asks States to do doorstep ...</td>\n",
       "      <td>https://www.thehindu.com/news/national/ramvila...</td>\n",
       "      <td>8</td>\n",
       "      <td>national</td>\n",
       "      <td>TheHindu</td>\n",
       "    </tr>\n",
       "    <tr>\n",
       "      <th>2</th>\n",
       "      <td>2020-08-12</td>\n",
       "      <td>\\n Rationalisation: Textile Ministry to close ...</td>\n",
       "      <td>https://www.thehindu.com/news/national/rationa...</td>\n",
       "      <td>0</td>\n",
       "      <td>national</td>\n",
       "      <td>TheHindu</td>\n",
       "    </tr>\n",
       "    <tr>\n",
       "      <th>3</th>\n",
       "      <td>2020-08-12</td>\n",
       "      <td>\\nCoronavirus | Expert panel to discuss issues...</td>\n",
       "      <td>https://www.thehindu.com/news/national/coronav...</td>\n",
       "      <td>0</td>\n",
       "      <td>national</td>\n",
       "      <td>TheHindu</td>\n",
       "    </tr>\n",
       "    <tr>\n",
       "      <th>4</th>\n",
       "      <td>2020-08-12</td>\n",
       "      <td>\\nDGCA suspends wide-body flights for Calicut ...</td>\n",
       "      <td>https://www.thehindu.com/news/national/dgca-su...</td>\n",
       "      <td>0</td>\n",
       "      <td>national</td>\n",
       "      <td>TheHindu</td>\n",
       "    </tr>\n",
       "  </tbody>\n",
       "</table>\n",
       "</div>"
      ],
      "text/plain": [
       "  extractedDate                                           headline  \\\n",
       "0    2020-08-12  \\n Ramvilas Paswan asks States to do doorstep ...   \n",
       "1    2020-08-12  \\n Ramvilas Paswan asks States to do doorstep ...   \n",
       "2    2020-08-12  \\n Rationalisation: Textile Ministry to close ...   \n",
       "3    2020-08-12  \\nCoronavirus | Expert panel to discuss issues...   \n",
       "4    2020-08-12  \\nDGCA suspends wide-body flights for Calicut ...   \n",
       "\n",
       "                                                link  page    region    source  \n",
       "0  https://www.thehindu.com/news/national/ramvila...     0  national  TheHindu  \n",
       "1  https://www.thehindu.com/news/national/ramvila...     8  national  TheHindu  \n",
       "2  https://www.thehindu.com/news/national/rationa...     0  national  TheHindu  \n",
       "3  https://www.thehindu.com/news/national/coronav...     0  national  TheHindu  \n",
       "4  https://www.thehindu.com/news/national/dgca-su...     0  national  TheHindu  "
      ]
     },
     "execution_count": 21,
     "metadata": {},
     "output_type": "execute_result"
    }
   ],
   "source": [
    "import pandas as pd\n",
    "articles_df = pd.read_json('dump1208.json')\n",
    "articles_df.head()"
   ]
  },
  {
   "cell_type": "code",
   "execution_count": 33,
   "metadata": {},
   "outputs": [
    {
     "data": {
      "text/plain": [
       "array(['national', 'international', 'andhra-pradesh', 'karnataka',\n",
       "       'kerala', 'tamil-nadu', 'telangana', 'other-states', 'bangalore',\n",
       "       'chennai', 'Coimbatore', 'Delhi', 'Hyderabad', 'Kochi', 'kolkata'],\n",
       "      dtype=object)"
      ]
     },
     "execution_count": 33,
     "metadata": {},
     "output_type": "execute_result"
    }
   ],
   "source": [
    "articles_df.region.unique()"
   ]
  },
  {
   "cell_type": "code",
   "execution_count": 35,
   "metadata": {},
   "outputs": [],
   "source": [
    "df = pd.read_json (r'articledump1208.json')\n",
    "df.to_csv (r'articledump1208.csv', index = None)"
   ]
  },
  {
   "cell_type": "code",
   "execution_count": 45,
   "metadata": {},
   "outputs": [],
   "source": [
    "h_df = pd.read_json('../webscrapy/dump1308hash.json')"
   ]
  },
  {
   "cell_type": "code",
   "execution_count": 53,
   "metadata": {},
   "outputs": [
    {
     "data": {
      "text/plain": [
       "9132"
      ]
     },
     "execution_count": 53,
     "metadata": {},
     "output_type": "execute_result"
    }
   ],
   "source": [
    "h_df.hash.unique().size"
   ]
  },
  {
   "cell_type": "code",
   "execution_count": 54,
   "metadata": {},
   "outputs": [
    {
     "data": {
      "text/plain": [
       "9132"
      ]
     },
     "execution_count": 54,
     "metadata": {},
     "output_type": "execute_result"
    }
   ],
   "source": [
    "h_df.link.unique().size"
   ]
  },
  {
   "cell_type": "code",
   "execution_count": 56,
   "metadata": {},
   "outputs": [],
   "source": [
    "ah_df = pd.read_json('../webscrapy/articledump1308hash.json')"
   ]
  },
  {
   "cell_type": "code",
   "execution_count": 57,
   "metadata": {},
   "outputs": [
    {
     "data": {
      "text/plain": [
       "9021"
      ]
     },
     "execution_count": 57,
     "metadata": {},
     "output_type": "execute_result"
    }
   ],
   "source": [
    "ah_df.hash.unique().size"
   ]
  },
  {
   "cell_type": "code",
   "execution_count": 59,
   "metadata": {},
   "outputs": [
    {
     "data": {
      "text/plain": [
       "9133"
      ]
     },
     "execution_count": 59,
     "metadata": {},
     "output_type": "execute_result"
    }
   ],
   "source": [
    "ah_df.url.unique().size"
   ]
  },
  {
   "cell_type": "code",
   "execution_count": 69,
   "metadata": {},
   "outputs": [
    {
     "data": {
      "text/plain": [
       "array([                   0,  -877289403012855675, -1119634344865167393,\n",
       "       -5718921275730345121,   569058541932962377, -9043353124785617703,\n",
       "       -4373650432064648445,  9092299801382120374,  3678372537868193953,\n",
       "        5587036843755206405, -8271094586872838543])"
      ]
     },
     "execution_count": 69,
     "metadata": {},
     "output_type": "execute_result"
    }
   ],
   "source": [
    "ah_df[ah_df.hash.duplicated()].hash.unique()"
   ]
  },
  {
   "cell_type": "code",
   "execution_count": 76,
   "metadata": {},
   "outputs": [],
   "source": [
    "texts = ah_df[ah_df.hash==0].text"
   ]
  },
  {
   "cell_type": "code",
   "execution_count": 77,
   "metadata": {},
   "outputs": [
    {
     "data": {
      "text/plain": [
       "[0,\n",
       " 0,\n",
       " 0,\n",
       " 0,\n",
       " 0,\n",
       " 0,\n",
       " 0,\n",
       " 0,\n",
       " 0,\n",
       " 0,\n",
       " 0,\n",
       " 0,\n",
       " 0,\n",
       " 0,\n",
       " 0,\n",
       " 0,\n",
       " 0,\n",
       " 0,\n",
       " 0,\n",
       " 0,\n",
       " 0,\n",
       " 0,\n",
       " 0,\n",
       " 0,\n",
       " 0,\n",
       " 0,\n",
       " 0,\n",
       " 0,\n",
       " 0,\n",
       " 0,\n",
       " 0,\n",
       " 0,\n",
       " 0,\n",
       " 0,\n",
       " 0,\n",
       " 0,\n",
       " 0,\n",
       " 0,\n",
       " 0,\n",
       " 0,\n",
       " 0,\n",
       " 0,\n",
       " 0,\n",
       " 0,\n",
       " 0,\n",
       " 0,\n",
       " 0,\n",
       " 0,\n",
       " 0,\n",
       " 0,\n",
       " 0,\n",
       " 0,\n",
       " 0,\n",
       " 0,\n",
       " 0,\n",
       " 0,\n",
       " 0,\n",
       " 0,\n",
       " 0,\n",
       " 0,\n",
       " 0,\n",
       " 0,\n",
       " 0,\n",
       " 0,\n",
       " 0,\n",
       " 0,\n",
       " 0,\n",
       " 0,\n",
       " 0,\n",
       " 0,\n",
       " 0,\n",
       " 0,\n",
       " 0,\n",
       " 0,\n",
       " 0,\n",
       " 0,\n",
       " 0,\n",
       " 0,\n",
       " 0,\n",
       " 0,\n",
       " 0,\n",
       " 0,\n",
       " 0,\n",
       " 0,\n",
       " 0,\n",
       " 0,\n",
       " 0,\n",
       " 0,\n",
       " 0,\n",
       " 0,\n",
       " 0,\n",
       " 0,\n",
       " 0,\n",
       " 0,\n",
       " 0,\n",
       " 0,\n",
       " 0,\n",
       " 0,\n",
       " 0,\n",
       " 0,\n",
       " 0,\n",
       " 0,\n",
       " 0,\n",
       " 0,\n",
       " 0,\n",
       " 0,\n",
       " 0]"
      ]
     },
     "execution_count": 77,
     "metadata": {},
     "output_type": "execute_result"
    }
   ],
   "source": [
    "_hash = [hash(text) for text in texts]\n",
    "_hash"
   ]
  },
  {
   "cell_type": "code",
   "execution_count": 88,
   "metadata": {},
   "outputs": [],
   "source": [
    "_t = ah_df[ah_df.hash==-1119634344865167393].text\n",
    "_u = ah_df[ah_df.hash==-1119634344865167393].url"
   ]
  },
  {
   "cell_type": "code",
   "execution_count": 89,
   "metadata": {},
   "outputs": [
    {
     "data": {
      "text/plain": [
       "889    Congressional lawmakers finally got a chance t...\n",
       "897    Congressional lawmakers finally got a chance t...\n",
       "Name: text, dtype: object"
      ]
     },
     "execution_count": 89,
     "metadata": {},
     "output_type": "execute_result"
    }
   ],
   "source": [
    "_t"
   ]
  },
  {
   "cell_type": "code",
   "execution_count": 90,
   "metadata": {},
   "outputs": [
    {
     "name": "stdout",
     "output_type": "stream",
     "text": [
      "889    https://www.thehindu.com/news/international/4-...\n",
      "897    https://www.thehindu.com/news/international/4-...\n",
      "Name: url, dtype: object\n"
     ]
    }
   ],
   "source": [
    "print(_u)"
   ]
  },
  {
   "cell_type": "code",
   "execution_count": 91,
   "metadata": {},
   "outputs": [
    {
     "data": {
      "text/plain": [
       "859    James Murdoch resigns from News Corp board ove...\n",
       "866    James Murdoch resigns from News Corp board ove...\n",
       "Name: title, dtype: object"
      ]
     },
     "execution_count": 91,
     "metadata": {},
     "output_type": "execute_result"
    }
   ],
   "source": [
    "ah_df[ah_df.hash==-877289403012855675].title"
   ]
  },
  {
   "cell_type": "code",
   "execution_count": 92,
   "metadata": {},
   "outputs": [
    {
     "name": "stdout",
     "output_type": "stream",
     "text": [
      "<class 'pandas.core.frame.DataFrame'>\n",
      "RangeIndex: 9137 entries, 0 to 9136\n",
      "Data columns (total 11 columns):\n",
      " #   Column        Non-Null Count  Dtype \n",
      "---  ------        --------------  ----- \n",
      " 0   publishdate   9137 non-null   object\n",
      " 1   createddate   9137 non-null   object\n",
      " 2   modifieddate  9137 non-null   object\n",
      " 3   section       9137 non-null   object\n",
      " 4   author        9137 non-null   object\n",
      " 5   tags          9137 non-null   object\n",
      " 6   title         9137 non-null   object\n",
      " 7   description   9137 non-null   object\n",
      " 8   text          9137 non-null   object\n",
      " 9   url           9137 non-null   object\n",
      " 10  hash          9137 non-null   int64 \n",
      "dtypes: int64(1), object(10)\n",
      "memory usage: 785.3+ KB\n"
     ]
    }
   ],
   "source": [
    "ah_df.info()"
   ]
  },
  {
   "cell_type": "code",
   "execution_count": 93,
   "metadata": {},
   "outputs": [],
   "source": [
    "# Default Dict"
   ]
  },
  {
   "cell_type": "code",
   "execution_count": 94,
   "metadata": {},
   "outputs": [
    {
     "name": "stdout",
     "output_type": "stream",
     "text": [
      "Dictionary with values as list:\n",
      "defaultdict(<class 'list'>, {0: [0], 1: [1], 2: [2], 3: [3], 4: [4]})\n"
     ]
    }
   ],
   "source": [
    "from collections import defaultdict \n",
    "  \n",
    "  \n",
    "# Defining a dict \n",
    "d = defaultdict(list) \n",
    "  \n",
    "for i in range(5): \n",
    "    d[i].append(i) \n",
    "      \n",
    "print(\"Dictionary with values as list:\") \n",
    "print(d)"
   ]
  },
  {
   "cell_type": "code",
   "execution_count": 95,
   "metadata": {},
   "outputs": [],
   "source": [
    "for i in range(10):\n",
    "    d[i].append(i)"
   ]
  },
  {
   "cell_type": "code",
   "execution_count": 96,
   "metadata": {},
   "outputs": [
    {
     "data": {
      "text/plain": [
       "defaultdict(list,\n",
       "            {0: [0, 0],\n",
       "             1: [1, 1],\n",
       "             2: [2, 2],\n",
       "             3: [3, 3],\n",
       "             4: [4, 4],\n",
       "             5: [5],\n",
       "             6: [6],\n",
       "             7: [7],\n",
       "             8: [8],\n",
       "             9: [9]})"
      ]
     },
     "execution_count": 96,
     "metadata": {},
     "output_type": "execute_result"
    }
   ],
   "source": [
    "d"
   ]
  },
  {
   "cell_type": "code",
   "execution_count": null,
   "metadata": {},
   "outputs": [],
   "source": []
  }
 ],
 "metadata": {
  "kernelspec": {
   "display_name": "Python 3",
   "language": "python",
   "name": "python3"
  },
  "language_info": {
   "codemirror_mode": {
    "name": "ipython",
    "version": 3
   },
   "file_extension": ".py",
   "mimetype": "text/x-python",
   "name": "python",
   "nbconvert_exporter": "python",
   "pygments_lexer": "ipython3",
   "version": "3.7.7"
  }
 },
 "nbformat": 4,
 "nbformat_minor": 4
}
